{
 "cells": [
  {
   "cell_type": "markdown",
   "id": "3ae4d9e5-f1db-4161-8c61-3a711fd0a68f",
   "metadata": {},
   "source": [
    "This notebook is a simple try of designing a neural network for the\n",
    "MNIST competition on Kaggle.\n",
    "\n",
    "Using a simple neural network, I got a score of 0.95185.\n",
    "\n",
    "For better results, I should probably use a convolutional neural network\n",
    "and transforming the images, skewing, mirroring etc.\n",
    "\n",
    "At the bottom, I added some code to predict new images, i.e. I wrote numbers\n",
    "on a piece of paper, took a picture with my phone and used the model\n",
    "to predict what number it was. Quite fun, and it worked rather well."
   ]
  },
  {
   "cell_type": "code",
   "execution_count": 1,
   "id": "d69bd47d-2ef6-4363-8023-c53c2677ae80",
   "metadata": {},
   "outputs": [
    {
     "name": "stderr",
     "output_type": "stream",
     "text": [
      "2023-05-07 12:53:57.611780: I tensorflow/core/platform/cpu_feature_guard.cc:193] This TensorFlow binary is optimized with oneAPI Deep Neural Network Library (oneDNN) to use the following CPU instructions in performance-critical operations:  SSE4.1 SSE4.2\n",
      "To enable them in other operations, rebuild TensorFlow with the appropriate compiler flags.\n"
     ]
    }
   ],
   "source": [
    "import numpy as np # linear algebra\n",
    "import pandas as pd # data processing, CSV file I/O (e.g. pd.read_csv)\n",
    "import tensorflow as tf\n",
    "import pandas as pd\n",
    "from sklearn.model_selection import train_test_split\n",
    "from sklearn.linear_model import LinearRegression\n",
    "\n",
    "from sklearn.metrics import confusion_matrix\n",
    "from sklearn.metrics import accuracy_score\n",
    "\n",
    "from sklearn.preprocessing import MinMaxScaler\n",
    "\n",
    "import matplotlib.pyplot as plt\n",
    "import seaborn as sns\n",
    "\n",
    "\n",
    "from tensorflow import keras\n",
    "from tensorflow.keras import layers\n",
    "from keras_tuner.tuners import RandomSearch\n"
   ]
  },
  {
   "cell_type": "code",
   "execution_count": 2,
   "id": "7ace4344-408f-441e-8431-f5c262fd1418",
   "metadata": {},
   "outputs": [],
   "source": [
    "df = pd.read_csv('../MNIST/train.csv')\n"
   ]
  },
  {
   "cell_type": "code",
   "execution_count": 3,
   "id": "69e5dca2-a040-4fcf-99eb-4b6871f7e65a",
   "metadata": {},
   "outputs": [],
   "source": [
    "test_df = pd.read_csv('../MNIST/test.csv')"
   ]
  },
  {
   "cell_type": "code",
   "execution_count": 4,
   "id": "27bc4f2b-00f4-4a81-b08b-d377cdd4baf4",
   "metadata": {},
   "outputs": [],
   "source": [
    "train_df, dev_df = train_test_split(df, test_size=0.2)\n"
   ]
  },
  {
   "cell_type": "code",
   "execution_count": 5,
   "id": "d1fb857f-13e3-40d3-a254-4a696bf81ee6",
   "metadata": {},
   "outputs": [
    {
     "data": {
      "text/plain": [
       "(33600, 785)"
      ]
     },
     "execution_count": 5,
     "metadata": {},
     "output_type": "execute_result"
    }
   ],
   "source": [
    "train_df.shape"
   ]
  },
  {
   "cell_type": "code",
   "execution_count": 6,
   "id": "68f94775-43ed-4318-a0b1-bee8043dcc2a",
   "metadata": {},
   "outputs": [],
   "source": [
    "\n",
    "# Define the input shape of your neural network\n",
    "input_shape = train_df.shape[1] - 1\n",
    "\n",
    "# Define the number of output neurons in your neural network\n",
    "output_neurons = 10"
   ]
  },
  {
   "cell_type": "code",
   "execution_count": 7,
   "id": "bd525b0c-8d9c-4fe5-8221-27f79dd7c720",
   "metadata": {},
   "outputs": [
    {
     "name": "stderr",
     "output_type": "stream",
     "text": [
      "2023-05-07 12:54:16.445745: I tensorflow/core/platform/cpu_feature_guard.cc:193] This TensorFlow binary is optimized with oneAPI Deep Neural Network Library (oneDNN) to use the following CPU instructions in performance-critical operations:  SSE4.1 SSE4.2\n",
      "To enable them in other operations, rebuild TensorFlow with the appropriate compiler flags.\n"
     ]
    }
   ],
   "source": [
    "# Define the number of neurons in each hidden layer\n",
    "hidden_layer_1_neurons = 128\n",
    "hidden_layer_2_neurons = 128\n",
    "\n",
    "\n",
    "# Define your neural network using the Sequential model in TensorFlow\n",
    "model = tf.keras.Sequential([\n",
    "    tf.keras.layers.Dense(hidden_layer_1_neurons, activation='relu', input_shape=(input_shape,)),\n",
    "    tf.keras.layers.Dense(hidden_layer_2_neurons, activation='relu'),\n",
    "    tf.keras.layers.Dense(output_neurons, activation='linear')\n",
    "])\n",
    "optimizer = keras.optimizers.Adam(learning_rate=0.001)\n",
    "loss=tf.keras.losses.SparseCategoricalCrossentropy(from_logits=True)\n",
    "# Compile your neural network using binary crossentropy loss and Adam optimizer\n",
    "model.compile(loss=loss, optimizer=optimizer, metrics=['accuracy'])"
   ]
  },
  {
   "cell_type": "code",
   "execution_count": 10,
   "id": "aaf06ef6-28b7-4fc2-9b49-68281c6202bb",
   "metadata": {},
   "outputs": [
    {
     "name": "stdout",
     "output_type": "stream",
     "text": [
      "Epoch 1/50\n",
      "33/33 [==============================] - 0s 6ms/step - loss: 0.0305 - accuracy: 0.9935\n",
      "Epoch 2/50\n",
      "33/33 [==============================] - 0s 5ms/step - loss: 0.0258 - accuracy: 0.9946\n",
      "Epoch 3/50\n",
      "33/33 [==============================] - 0s 5ms/step - loss: 0.0219 - accuracy: 0.9956\n",
      "Epoch 4/50\n",
      "33/33 [==============================] - 0s 5ms/step - loss: 0.0183 - accuracy: 0.9963\n",
      "Epoch 5/50\n",
      "33/33 [==============================] - 0s 5ms/step - loss: 0.0162 - accuracy: 0.9970\n",
      "Epoch 6/50\n",
      "33/33 [==============================] - 0s 5ms/step - loss: 0.0139 - accuracy: 0.9974\n",
      "Epoch 7/50\n",
      "33/33 [==============================] - 0s 5ms/step - loss: 0.0114 - accuracy: 0.9983\n",
      "Epoch 8/50\n",
      "33/33 [==============================] - 0s 5ms/step - loss: 0.0097 - accuracy: 0.9986\n",
      "Epoch 9/50\n",
      "33/33 [==============================] - 0s 5ms/step - loss: 0.0085 - accuracy: 0.9989\n",
      "Epoch 10/50\n",
      "33/33 [==============================] - 0s 5ms/step - loss: 0.0074 - accuracy: 0.9991\n",
      "Epoch 11/50\n",
      "33/33 [==============================] - 0s 5ms/step - loss: 0.0064 - accuracy: 0.9991\n",
      "Epoch 12/50\n",
      "33/33 [==============================] - 0s 5ms/step - loss: 0.0056 - accuracy: 0.9993\n",
      "Epoch 13/50\n",
      "33/33 [==============================] - 0s 6ms/step - loss: 0.0050 - accuracy: 0.9995\n",
      "Epoch 14/50\n",
      "33/33 [==============================] - 0s 6ms/step - loss: 0.0043 - accuracy: 0.9996\n",
      "Epoch 15/50\n",
      "33/33 [==============================] - 0s 6ms/step - loss: 0.0039 - accuracy: 0.9997\n",
      "Epoch 16/50\n",
      "33/33 [==============================] - 0s 6ms/step - loss: 0.0035 - accuracy: 0.9998\n",
      "Epoch 17/50\n",
      "33/33 [==============================] - 0s 6ms/step - loss: 0.0032 - accuracy: 0.9998\n",
      "Epoch 18/50\n",
      "33/33 [==============================] - 0s 6ms/step - loss: 0.0029 - accuracy: 0.9998\n",
      "Epoch 19/50\n",
      "33/33 [==============================] - 0s 6ms/step - loss: 0.0026 - accuracy: 0.9999\n",
      "Epoch 20/50\n",
      "33/33 [==============================] - 0s 6ms/step - loss: 0.0024 - accuracy: 0.9999\n",
      "Epoch 21/50\n",
      "33/33 [==============================] - 0s 5ms/step - loss: 0.0022 - accuracy: 0.9999\n",
      "Epoch 22/50\n",
      "33/33 [==============================] - 0s 5ms/step - loss: 0.0021 - accuracy: 0.9999\n",
      "Epoch 23/50\n",
      "33/33 [==============================] - 0s 5ms/step - loss: 0.0019 - accuracy: 1.0000\n",
      "Epoch 24/50\n",
      "33/33 [==============================] - 0s 5ms/step - loss: 0.0018 - accuracy: 1.0000\n",
      "Epoch 25/50\n",
      "33/33 [==============================] - 0s 6ms/step - loss: 0.0017 - accuracy: 1.0000\n",
      "Epoch 26/50\n",
      "33/33 [==============================] - 0s 6ms/step - loss: 0.0016 - accuracy: 1.0000\n",
      "Epoch 27/50\n",
      "33/33 [==============================] - 0s 6ms/step - loss: 0.0015 - accuracy: 1.0000\n",
      "Epoch 28/50\n",
      "33/33 [==============================] - 0s 5ms/step - loss: 0.0014 - accuracy: 1.0000\n",
      "Epoch 29/50\n",
      "33/33 [==============================] - 0s 5ms/step - loss: 0.0014 - accuracy: 1.0000\n",
      "Epoch 30/50\n",
      "33/33 [==============================] - 0s 5ms/step - loss: 0.0013 - accuracy: 1.0000\n",
      "Epoch 31/50\n",
      "33/33 [==============================] - 0s 5ms/step - loss: 0.0012 - accuracy: 1.0000\n",
      "Epoch 32/50\n",
      "33/33 [==============================] - 0s 5ms/step - loss: 0.0012 - accuracy: 1.0000\n",
      "Epoch 33/50\n",
      "33/33 [==============================] - 0s 6ms/step - loss: 0.0011 - accuracy: 1.0000\n",
      "Epoch 34/50\n",
      "33/33 [==============================] - 0s 6ms/step - loss: 0.0011 - accuracy: 1.0000\n",
      "Epoch 35/50\n",
      "33/33 [==============================] - 0s 6ms/step - loss: 0.0011 - accuracy: 1.0000\n",
      "Epoch 36/50\n",
      "33/33 [==============================] - 0s 6ms/step - loss: 0.0010 - accuracy: 1.0000\n",
      "Epoch 37/50\n",
      "33/33 [==============================] - 0s 6ms/step - loss: 9.7173e-04 - accuracy: 1.0000\n",
      "Epoch 38/50\n",
      "33/33 [==============================] - 0s 6ms/step - loss: 9.3582e-04 - accuracy: 1.0000\n",
      "Epoch 39/50\n",
      "33/33 [==============================] - 0s 6ms/step - loss: 8.9892e-04 - accuracy: 1.0000\n",
      "Epoch 40/50\n",
      "33/33 [==============================] - 0s 6ms/step - loss: 8.6878e-04 - accuracy: 1.0000\n",
      "Epoch 41/50\n",
      "33/33 [==============================] - 0s 5ms/step - loss: 8.4228e-04 - accuracy: 1.0000\n",
      "Epoch 42/50\n",
      "33/33 [==============================] - 0s 5ms/step - loss: 8.1120e-04 - accuracy: 1.0000\n",
      "Epoch 43/50\n",
      "33/33 [==============================] - 0s 5ms/step - loss: 7.8751e-04 - accuracy: 1.0000\n",
      "Epoch 44/50\n",
      "33/33 [==============================] - 0s 5ms/step - loss: 7.6475e-04 - accuracy: 1.0000\n",
      "Epoch 45/50\n",
      "33/33 [==============================] - 0s 5ms/step - loss: 7.3350e-04 - accuracy: 1.0000\n",
      "Epoch 46/50\n",
      "33/33 [==============================] - 0s 5ms/step - loss: 7.1063e-04 - accuracy: 1.0000\n",
      "Epoch 47/50\n",
      "33/33 [==============================] - 0s 7ms/step - loss: 6.8705e-04 - accuracy: 1.0000\n",
      "Epoch 48/50\n",
      "33/33 [==============================] - 0s 7ms/step - loss: 6.6368e-04 - accuracy: 1.0000\n",
      "Epoch 49/50\n",
      "33/33 [==============================] - 0s 6ms/step - loss: 6.4356e-04 - accuracy: 1.0000\n",
      "Epoch 50/50\n",
      "33/33 [==============================] - 0s 6ms/step - loss: 6.2586e-04 - accuracy: 1.0000\n"
     ]
    },
    {
     "data": {
      "text/plain": [
       "<keras.callbacks.History at 0x7faf08805d60>"
      ]
     },
     "execution_count": 10,
     "metadata": {},
     "output_type": "execute_result"
    }
   ],
   "source": [
    "model.fit(train_df.drop('label', axis=1), train_df['label'], epochs=50, batch_size=1024)"
   ]
  },
  {
   "cell_type": "code",
   "execution_count": 11,
   "id": "6f32e622-fb7b-4657-a038-95ff56f75ccd",
   "metadata": {},
   "outputs": [
    {
     "name": "stdout",
     "output_type": "stream",
     "text": [
      "263/263 [==============================] - 0s 496us/step - loss: 0.5754 - accuracy: 0.9373\n",
      "Accuracy: 0.9372618794441223\n"
     ]
    }
   ],
   "source": [
    "# Evaluate your neural network using the testing data\n",
    "loss, accuracy = model.evaluate(dev_df.drop('label', axis=1), dev_df['label'])\n",
    "\n",
    "# Print the accuracy of your neural network on the testing data\n",
    "print('Accuracy:', accuracy)"
   ]
  },
  {
   "cell_type": "code",
   "execution_count": 17,
   "id": "b45e3ca1-1e4f-4386-b3d4-dd346d3bbdda",
   "metadata": {},
   "outputs": [
    {
     "data": {
      "text/plain": [
       "(28000, 784)"
      ]
     },
     "execution_count": 17,
     "metadata": {},
     "output_type": "execute_result"
    }
   ],
   "source": [
    "test_df.shape"
   ]
  },
  {
   "cell_type": "code",
   "execution_count": 18,
   "id": "93757f13-f1fa-4ce7-8617-9b12006a187f",
   "metadata": {},
   "outputs": [
    {
     "name": "stdout",
     "output_type": "stream",
     "text": [
      "Epoch 1/50\n",
      "2/2 [==============================] - 1s 81ms/step - loss: 1.0524e-04 - accuracy: 1.0000\n",
      "Epoch 2/50\n",
      "2/2 [==============================] - 0s 71ms/step - loss: 1.0506e-04 - accuracy: 1.0000\n",
      "Epoch 3/50\n",
      "2/2 [==============================] - 0s 69ms/step - loss: 1.0489e-04 - accuracy: 1.0000\n",
      "Epoch 4/50\n",
      "2/2 [==============================] - 0s 72ms/step - loss: 1.0468e-04 - accuracy: 1.0000\n",
      "Epoch 5/50\n",
      "2/2 [==============================] - 0s 59ms/step - loss: 1.0448e-04 - accuracy: 1.0000\n",
      "Epoch 6/50\n",
      "2/2 [==============================] - 0s 58ms/step - loss: 1.0428e-04 - accuracy: 1.0000\n",
      "Epoch 7/50\n",
      "2/2 [==============================] - 0s 56ms/step - loss: 1.0411e-04 - accuracy: 1.0000\n",
      "Epoch 8/50\n",
      "2/2 [==============================] - 0s 54ms/step - loss: 1.0392e-04 - accuracy: 1.0000\n",
      "Epoch 9/50\n",
      "2/2 [==============================] - 0s 59ms/step - loss: 1.0375e-04 - accuracy: 1.0000\n",
      "Epoch 10/50\n",
      "2/2 [==============================] - 0s 74ms/step - loss: 1.0359e-04 - accuracy: 1.0000\n",
      "Epoch 11/50\n",
      "2/2 [==============================] - 0s 59ms/step - loss: 1.0344e-04 - accuracy: 1.0000\n",
      "Epoch 12/50\n",
      "2/2 [==============================] - 0s 58ms/step - loss: 1.0328e-04 - accuracy: 1.0000\n",
      "Epoch 13/50\n",
      "2/2 [==============================] - 0s 54ms/step - loss: 1.0313e-04 - accuracy: 1.0000\n",
      "Epoch 14/50\n",
      "2/2 [==============================] - 0s 55ms/step - loss: 1.0298e-04 - accuracy: 1.0000\n",
      "Epoch 15/50\n",
      "2/2 [==============================] - 0s 56ms/step - loss: 1.0283e-04 - accuracy: 1.0000\n",
      "Epoch 16/50\n",
      "2/2 [==============================] - 0s 71ms/step - loss: 1.0269e-04 - accuracy: 1.0000\n",
      "Epoch 17/50\n",
      "2/2 [==============================] - 0s 62ms/step - loss: 1.0255e-04 - accuracy: 1.0000\n",
      "Epoch 18/50\n",
      "2/2 [==============================] - 0s 58ms/step - loss: 1.0241e-04 - accuracy: 1.0000\n",
      "Epoch 19/50\n",
      "2/2 [==============================] - 0s 57ms/step - loss: 1.0227e-04 - accuracy: 1.0000\n",
      "Epoch 20/50\n",
      "2/2 [==============================] - 0s 66ms/step - loss: 1.0214e-04 - accuracy: 1.0000\n",
      "Epoch 21/50\n",
      "2/2 [==============================] - 0s 55ms/step - loss: 1.0201e-04 - accuracy: 1.0000\n",
      "Epoch 22/50\n",
      "2/2 [==============================] - 0s 56ms/step - loss: 1.0188e-04 - accuracy: 1.0000\n",
      "Epoch 23/50\n",
      "2/2 [==============================] - 0s 55ms/step - loss: 1.0175e-04 - accuracy: 1.0000\n",
      "Epoch 24/50\n",
      "2/2 [==============================] - 0s 58ms/step - loss: 1.0162e-04 - accuracy: 1.0000\n",
      "Epoch 25/50\n",
      "2/2 [==============================] - 0s 55ms/step - loss: 1.0149e-04 - accuracy: 1.0000\n",
      "Epoch 26/50\n",
      "2/2 [==============================] - 0s 74ms/step - loss: 1.0136e-04 - accuracy: 1.0000\n",
      "Epoch 27/50\n",
      "2/2 [==============================] - 0s 74ms/step - loss: 1.0123e-04 - accuracy: 1.0000\n",
      "Epoch 28/50\n",
      "2/2 [==============================] - 0s 66ms/step - loss: 1.0109e-04 - accuracy: 1.0000\n",
      "Epoch 29/50\n",
      "2/2 [==============================] - 0s 59ms/step - loss: 1.0097e-04 - accuracy: 1.0000\n",
      "Epoch 30/50\n",
      "2/2 [==============================] - 0s 66ms/step - loss: 1.0085e-04 - accuracy: 1.0000\n",
      "Epoch 31/50\n",
      "2/2 [==============================] - 0s 55ms/step - loss: 1.0072e-04 - accuracy: 1.0000\n",
      "Epoch 32/50\n",
      "2/2 [==============================] - 0s 55ms/step - loss: 1.0058e-04 - accuracy: 1.0000\n",
      "Epoch 33/50\n",
      "2/2 [==============================] - 0s 55ms/step - loss: 1.0046e-04 - accuracy: 1.0000\n",
      "Epoch 34/50\n",
      "2/2 [==============================] - 0s 55ms/step - loss: 1.0033e-04 - accuracy: 1.0000\n",
      "Epoch 35/50\n",
      "2/2 [==============================] - 0s 57ms/step - loss: 1.0021e-04 - accuracy: 1.0000\n",
      "Epoch 36/50\n",
      "2/2 [==============================] - 0s 75ms/step - loss: 1.0008e-04 - accuracy: 1.0000\n",
      "Epoch 37/50\n",
      "2/2 [==============================] - 0s 79ms/step - loss: 9.9955e-05 - accuracy: 1.0000\n",
      "Epoch 38/50\n",
      "2/2 [==============================] - 0s 77ms/step - loss: 9.9830e-05 - accuracy: 1.0000\n",
      "Epoch 39/50\n",
      "2/2 [==============================] - 0s 78ms/step - loss: 9.9713e-05 - accuracy: 1.0000\n",
      "Epoch 40/50\n",
      "2/2 [==============================] - 0s 82ms/step - loss: 9.9581e-05 - accuracy: 1.0000\n",
      "Epoch 41/50\n",
      "2/2 [==============================] - 0s 75ms/step - loss: 9.9455e-05 - accuracy: 1.0000\n",
      "Epoch 42/50\n",
      "2/2 [==============================] - 0s 77ms/step - loss: 9.9334e-05 - accuracy: 1.0000\n",
      "Epoch 43/50\n",
      "2/2 [==============================] - 0s 80ms/step - loss: 9.9207e-05 - accuracy: 1.0000\n",
      "Epoch 44/50\n",
      "2/2 [==============================] - 0s 87ms/step - loss: 9.9089e-05 - accuracy: 1.0000\n",
      "Epoch 45/50\n",
      "2/2 [==============================] - 0s 75ms/step - loss: 9.8964e-05 - accuracy: 1.0000\n",
      "Epoch 46/50\n",
      "2/2 [==============================] - 0s 64ms/step - loss: 9.8840e-05 - accuracy: 1.0000\n",
      "Epoch 47/50\n",
      "2/2 [==============================] - 0s 56ms/step - loss: 9.8716e-05 - accuracy: 1.0000\n",
      "Epoch 48/50\n",
      "2/2 [==============================] - 0s 54ms/step - loss: 9.8595e-05 - accuracy: 1.0000\n",
      "Epoch 49/50\n",
      "2/2 [==============================] - 0s 54ms/step - loss: 9.8470e-05 - accuracy: 1.0000\n",
      "Epoch 50/50\n",
      "2/2 [==============================] - 0s 59ms/step - loss: 9.8347e-05 - accuracy: 1.0000\n"
     ]
    },
    {
     "data": {
      "text/plain": [
       "<keras.callbacks.History at 0x7faeb80e9970>"
      ]
     },
     "execution_count": 18,
     "metadata": {},
     "output_type": "execute_result"
    }
   ],
   "source": [
    "# train on entire dataset\n",
    "\n",
    "model.fit(df.drop('label', axis=1), df['label'], epochs=50, batch_size=1024)"
   ]
  },
  {
   "cell_type": "code",
   "execution_count": 19,
   "id": "b7acbecc-0002-45ff-a643-5bdadbcf1618",
   "metadata": {},
   "outputs": [
    {
     "name": "stdout",
     "output_type": "stream",
     "text": [
      "INFO:tensorflow:Assets written to: my_model/assets\n"
     ]
    }
   ],
   "source": [
    "model.save('my_model')"
   ]
  },
  {
   "cell_type": "code",
   "execution_count": 2,
   "id": "b850e9a5-89b9-4070-b73a-52ceae6c30c4",
   "metadata": {},
   "outputs": [
    {
     "name": "stderr",
     "output_type": "stream",
     "text": [
      "2023-05-06 10:23:57.478377: I tensorflow/core/platform/cpu_feature_guard.cc:193] This TensorFlow binary is optimized with oneAPI Deep Neural Network Library (oneDNN) to use the following CPU instructions in performance-critical operations:  SSE4.1 SSE4.2\n",
      "To enable them in other operations, rebuild TensorFlow with the appropriate compiler flags.\n"
     ]
    }
   ],
   "source": [
    "model = tf.keras.models.load_model('my_model')\n"
   ]
  },
  {
   "cell_type": "code",
   "execution_count": 20,
   "id": "99efee40-0ffe-4a7e-994a-1576b909c22a",
   "metadata": {},
   "outputs": [
    {
     "name": "stdout",
     "output_type": "stream",
     "text": [
      "875/875 [==============================] - 0s 426us/step\n"
     ]
    }
   ],
   "source": [
    "predictions = model.predict(test_df)"
   ]
  },
  {
   "cell_type": "code",
   "execution_count": 13,
   "id": "c874cd46-efcf-43fe-b626-afeb25f4ae64",
   "metadata": {},
   "outputs": [
    {
     "data": {
      "text/plain": [
       "pixel0      0\n",
       "pixel1      0\n",
       "pixel2      0\n",
       "pixel3      0\n",
       "pixel4      0\n",
       "           ..\n",
       "pixel779    0\n",
       "pixel780    0\n",
       "pixel781    0\n",
       "pixel782    0\n",
       "pixel783    0\n",
       "Name: 0, Length: 784, dtype: int64"
      ]
     },
     "execution_count": 13,
     "metadata": {},
     "output_type": "execute_result"
    }
   ],
   "source": [
    "test_df.loc[0]"
   ]
  },
  {
   "cell_type": "code",
   "execution_count": 14,
   "id": "a18dea9c-3590-4173-91e7-db05c1bfa0af",
   "metadata": {},
   "outputs": [
    {
     "data": {
      "text/plain": [
       "array([ -532.7485, -1378.352 ,  -982.3473, -1204.9   , -1511.7832,\n",
       "        -890.8874,  -722.6082, -2543.7517, -1586.0496, -1595.9397],\n",
       "      dtype=float32)"
      ]
     },
     "execution_count": 14,
     "metadata": {},
     "output_type": "execute_result"
    }
   ],
   "source": [
    "predictions[1]"
   ]
  },
  {
   "cell_type": "code",
   "execution_count": 3,
   "id": "eb55aa7c-8bd3-4013-8e4b-65fc76271c2b",
   "metadata": {},
   "outputs": [],
   "source": [
    "from PIL import Image\n",
    "from numpy import asarray\n"
   ]
  },
  {
   "cell_type": "code",
   "execution_count": 12,
   "id": "6de30281-659c-434a-a47b-bf4bf79d8708",
   "metadata": {},
   "outputs": [],
   "source": [
    "# Open the GIF image\n",
    "image = Image.open(\"rar_to.gif\")\n",
    "\n",
    "# Convert the image to grayscale\n",
    "gray_image = image.convert(\"L\")\n",
    "\n",
    "# Convert the grayscale image to a one-dimensional array\n",
    "array = [255 - a for a in list(gray_image.getdata()) ]"
   ]
  },
  {
   "cell_type": "code",
   "execution_count": 13,
   "id": "990dab88-dcb1-4033-b052-3bd04a03fda3",
   "metadata": {},
   "outputs": [
    {
     "data": {
      "text/plain": [
       "(1, 784)"
      ]
     },
     "execution_count": 13,
     "metadata": {},
     "output_type": "execute_result"
    }
   ],
   "source": [
    "\n",
    "\n",
    "# Convert the array to a Pandas dataframe\n",
    "df_gif = pd.DataFrame({'pixel{}'.format(i+1): [pixel] for i, pixel in enumerate(array)})\n",
    "\n",
    "# Print the dataframe\n",
    "df_gif.shape\n"
   ]
  },
  {
   "cell_type": "code",
   "execution_count": 14,
   "id": "c4805908-6658-4add-a798-f7cb893820de",
   "metadata": {},
   "outputs": [
    {
     "name": "stdout",
     "output_type": "stream",
     "text": [
      "1/1 [==============================] - 0s 25ms/step\n"
     ]
    },
    {
     "data": {
      "text/plain": [
       "array([[ 4.70720901e+01,  2.90850464e+02,  5.04865234e+02,\n",
       "         2.69834808e+02,  1.33035782e+02, -1.04767310e+03,\n",
       "         1.07193575e+01,  3.28500031e+02, -8.41445007e+01,\n",
       "        -1.37263057e+04]], dtype=float32)"
      ]
     },
     "execution_count": 14,
     "metadata": {},
     "output_type": "execute_result"
    }
   ],
   "source": [
    "predictions = model.predict(df_gif)\n",
    "predictions"
   ]
  },
  {
   "cell_type": "code",
   "execution_count": 15,
   "id": "fbfbd57a-f683-463d-89c4-6d1c52b24f5a",
   "metadata": {},
   "outputs": [
    {
     "name": "stdout",
     "output_type": "stream",
     "text": [
      "Vi tror dette er: 2\n"
     ]
    }
   ],
   "source": [
    "prediction_p = tf.nn.softmax(predictions[0])\n",
    "yhat = np.argmax(prediction_p)\n",
    "print (\"Vi tror dette er:\", yhat)"
   ]
  },
  {
   "cell_type": "code",
   "execution_count": 21,
   "id": "655cbe34-54bc-4144-a669-b0582bfbac53",
   "metadata": {},
   "outputs": [
    {
     "data": {
      "text/plain": [
       "28000"
      ]
     },
     "execution_count": 21,
     "metadata": {},
     "output_type": "execute_result"
    }
   ],
   "source": [
    "yhat = []\n",
    "\n",
    "for prediction_p in predictions:\n",
    "    p = tf.nn.softmax(prediction_p)\n",
    "    yhat.append(np.argmax(p))\n",
    "\n",
    "len(yhat)"
   ]
  },
  {
   "cell_type": "code",
   "execution_count": 22,
   "id": "3667ae8c-5b65-447d-96e2-1169dd162272",
   "metadata": {},
   "outputs": [
    {
     "name": "stdout",
     "output_type": "stream",
     "text": [
      "Your submission was successfully saved!\n"
     ]
    }
   ],
   "source": [
    "output_df = pd.DataFrame({'ImageId': test_df.index +1, 'Label': yhat})\n",
    "output_df.to_csv('submission.csv', index=False)\n",
    "print(\"Your submission was successfully saved!\")"
   ]
  },
  {
   "cell_type": "code",
   "execution_count": null,
   "id": "7f6c43ff-fb23-427b-8c86-993f14881a77",
   "metadata": {},
   "outputs": [],
   "source": []
  }
 ],
 "metadata": {
  "kernelspec": {
   "display_name": "Python 3 (ipykernel)",
   "language": "python",
   "name": "python3"
  },
  "language_info": {
   "codemirror_mode": {
    "name": "ipython",
    "version": 3
   },
   "file_extension": ".py",
   "mimetype": "text/x-python",
   "name": "python",
   "nbconvert_exporter": "python",
   "pygments_lexer": "ipython3",
   "version": "3.9.16"
  }
 },
 "nbformat": 4,
 "nbformat_minor": 5
}
