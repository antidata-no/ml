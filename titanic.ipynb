{
 "cells": [
  {
   "cell_type": "markdown",
   "metadata": {},
   "source": [
    "This notebook is an exploratotion of the Titanic competition on Kaggle.\n",
    "I got a score of 0.76794, which is not too bad.\n",
    "\n",
    "In this I just plugged in a neural network with RELU activation in the hidden\n",
    "layers and tuned the hyperparameters.\n",
    "\n",
    "For better results, XGBoost is apparently a better choice. Should probably try that."
   ]
  },
  {
   "cell_type": "code",
   "execution_count": 1,
   "metadata": {
    "_cell_guid": "b1076dfc-b9ad-4769-8c92-a6c4dae69d19",
    "_uuid": "8f2839f25d086af736a60e9eeb907d3b93b6e0e5"
   },
   "outputs": [
    {
     "name": "stderr",
     "output_type": "stream",
     "text": [
      "2023-05-11 11:19:52.931878: I tensorflow/core/platform/cpu_feature_guard.cc:193] This TensorFlow binary is optimized with oneAPI Deep Neural Network Library (oneDNN) to use the following CPU instructions in performance-critical operations:  SSE4.1 SSE4.2\n",
      "To enable them in other operations, rebuild TensorFlow with the appropriate compiler flags.\n"
     ]
    }
   ],
   "source": [
    "\n",
    "import numpy as np # linear algebra\n",
    "import pandas as pd # data processing, CSV file I/O (e.g. pd.read_csv)\n",
    "import tensorflow as tf\n",
    "import pandas as pd\n",
    "from sklearn.model_selection import train_test_split\n",
    "from sklearn.linear_model import LinearRegression\n",
    "\n",
    "from sklearn.metrics import confusion_matrix\n",
    "from sklearn.metrics import accuracy_score\n",
    "from sklearn.preprocessing import MinMaxScaler\n",
    "\n",
    "import matplotlib.pyplot as plt\n",
    "import seaborn as sns\n",
    "\n",
    "from tensorflow import keras\n",
    "from tensorflow.keras import layers\n",
    "from keras_tuner.tuners import RandomSearch\n",
    "\n",
    "from sklearn.tree import DecisionTreeClassifier\n",
    "from sklearn.model_selection import RandomizedSearchCV\n"
   ]
  },
  {
   "cell_type": "code",
   "execution_count": 3,
   "metadata": {},
   "outputs": [],
   "source": [
    "# Read in data from a CSV file using pandas\n",
    "df = pd.read_csv('train.csv')\n",
    "\n",
    "pred_df = pd.read_csv('test.csv')\n",
    "\n",
    "# Split the data into training and testing sets using train_test_split\n",
    "train_df, test_df = train_test_split(df, test_size=0.2)\n",
    "\n",
    "#train_df = pd.read_csv('train.csv')\n",
    "#test_df = pd.read_csv('test.csv')"
   ]
  },
  {
   "cell_type": "code",
   "execution_count": 40,
   "metadata": {},
   "outputs": [
    {
     "name": "stdout",
     "output_type": "stream",
     "text": [
      "NaN values in the training dataframe:\n",
      "PassengerId      0\n",
      "Survived         0\n",
      "Pclass           0\n",
      "Name             0\n",
      "Sex              0\n",
      "Age            145\n",
      "SibSp            0\n",
      "Parch            0\n",
      "Ticket           0\n",
      "Fare             0\n",
      "Cabin          548\n",
      "Embarked         2\n",
      "dtype: int64\n",
      "NaN values in the testing dataframe:\n",
      "PassengerId      0\n",
      "Survived         0\n",
      "Pclass           0\n",
      "Name             0\n",
      "Sex              0\n",
      "Age             32\n",
      "SibSp            0\n",
      "Parch            0\n",
      "Ticket           0\n",
      "Fare             0\n",
      "Cabin          139\n",
      "Embarked         0\n",
      "dtype: int64\n",
      "NaN values in the pred dataframe:\n",
      "PassengerId      0\n",
      "Pclass           0\n",
      "Name             0\n",
      "Sex              0\n",
      "Age             86\n",
      "SibSp            0\n",
      "Parch            0\n",
      "Ticket           0\n",
      "Fare             1\n",
      "Cabin          327\n",
      "Embarked         0\n",
      "dtype: int64\n"
     ]
    }
   ],
   "source": [
    "# Find NaN values in all columns of the training dataframe\n",
    "print('NaN values in the training dataframe:')\n",
    "print(train_df.isna().sum())\n",
    "\n",
    "# Find NaN values in all columns of the testing dataframe\n",
    "print('NaN values in the testing dataframe:')\n",
    "print(test_df.isna().sum())\n",
    "\n",
    "# Find NaN values in all columns of the testing dataframe\n",
    "print('NaN values in the pred dataframe:')\n",
    "print(pred_df.isna().sum())\n"
   ]
  },
  {
   "cell_type": "code",
   "execution_count": 4,
   "metadata": {},
   "outputs": [
    {
     "data": {
      "text/html": [
       "<div>\n",
       "<style scoped>\n",
       "    .dataframe tbody tr th:only-of-type {\n",
       "        vertical-align: middle;\n",
       "    }\n",
       "\n",
       "    .dataframe tbody tr th {\n",
       "        vertical-align: top;\n",
       "    }\n",
       "\n",
       "    .dataframe thead th {\n",
       "        text-align: right;\n",
       "    }\n",
       "</style>\n",
       "<table border=\"1\" class=\"dataframe\">\n",
       "  <thead>\n",
       "    <tr style=\"text-align: right;\">\n",
       "      <th></th>\n",
       "      <th>PassengerId</th>\n",
       "      <th>Survived</th>\n",
       "      <th>Pclass</th>\n",
       "      <th>Age</th>\n",
       "      <th>SibSp</th>\n",
       "      <th>Parch</th>\n",
       "      <th>Fare</th>\n",
       "    </tr>\n",
       "  </thead>\n",
       "  <tbody>\n",
       "    <tr>\n",
       "      <th>PassengerId</th>\n",
       "      <td>1.000000</td>\n",
       "      <td>-0.005581</td>\n",
       "      <td>-0.041638</td>\n",
       "      <td>0.038604</td>\n",
       "      <td>-0.064002</td>\n",
       "      <td>-0.017725</td>\n",
       "      <td>0.001080</td>\n",
       "    </tr>\n",
       "    <tr>\n",
       "      <th>Survived</th>\n",
       "      <td>-0.005581</td>\n",
       "      <td>1.000000</td>\n",
       "      <td>-0.345093</td>\n",
       "      <td>-0.091101</td>\n",
       "      <td>-0.038025</td>\n",
       "      <td>0.090788</td>\n",
       "      <td>0.257220</td>\n",
       "    </tr>\n",
       "    <tr>\n",
       "      <th>Pclass</th>\n",
       "      <td>-0.041638</td>\n",
       "      <td>-0.345093</td>\n",
       "      <td>1.000000</td>\n",
       "      <td>-0.345138</td>\n",
       "      <td>0.095309</td>\n",
       "      <td>0.023190</td>\n",
       "      <td>-0.534687</td>\n",
       "    </tr>\n",
       "    <tr>\n",
       "      <th>Age</th>\n",
       "      <td>0.038604</td>\n",
       "      <td>-0.091101</td>\n",
       "      <td>-0.345138</td>\n",
       "      <td>1.000000</td>\n",
       "      <td>-0.331075</td>\n",
       "      <td>-0.189649</td>\n",
       "      <td>0.079569</td>\n",
       "    </tr>\n",
       "    <tr>\n",
       "      <th>SibSp</th>\n",
       "      <td>-0.064002</td>\n",
       "      <td>-0.038025</td>\n",
       "      <td>0.095309</td>\n",
       "      <td>-0.331075</td>\n",
       "      <td>1.000000</td>\n",
       "      <td>0.442913</td>\n",
       "      <td>0.153785</td>\n",
       "    </tr>\n",
       "    <tr>\n",
       "      <th>Parch</th>\n",
       "      <td>-0.017725</td>\n",
       "      <td>0.090788</td>\n",
       "      <td>0.023190</td>\n",
       "      <td>-0.189649</td>\n",
       "      <td>0.442913</td>\n",
       "      <td>1.000000</td>\n",
       "      <td>0.216796</td>\n",
       "    </tr>\n",
       "    <tr>\n",
       "      <th>Fare</th>\n",
       "      <td>0.001080</td>\n",
       "      <td>0.257220</td>\n",
       "      <td>-0.534687</td>\n",
       "      <td>0.079569</td>\n",
       "      <td>0.153785</td>\n",
       "      <td>0.216796</td>\n",
       "      <td>1.000000</td>\n",
       "    </tr>\n",
       "  </tbody>\n",
       "</table>\n",
       "</div>"
      ],
      "text/plain": [
       "             PassengerId  Survived    Pclass       Age     SibSp     Parch  \\\n",
       "PassengerId     1.000000 -0.005581 -0.041638  0.038604 -0.064002 -0.017725   \n",
       "Survived       -0.005581  1.000000 -0.345093 -0.091101 -0.038025  0.090788   \n",
       "Pclass         -0.041638 -0.345093  1.000000 -0.345138  0.095309  0.023190   \n",
       "Age             0.038604 -0.091101 -0.345138  1.000000 -0.331075 -0.189649   \n",
       "SibSp          -0.064002 -0.038025  0.095309 -0.331075  1.000000  0.442913   \n",
       "Parch          -0.017725  0.090788  0.023190 -0.189649  0.442913  1.000000   \n",
       "Fare            0.001080  0.257220 -0.534687  0.079569  0.153785  0.216796   \n",
       "\n",
       "                 Fare  \n",
       "PassengerId  0.001080  \n",
       "Survived     0.257220  \n",
       "Pclass      -0.534687  \n",
       "Age          0.079569  \n",
       "SibSp        0.153785  \n",
       "Parch        0.216796  \n",
       "Fare         1.000000  "
      ]
     },
     "execution_count": 4,
     "metadata": {},
     "output_type": "execute_result"
    }
   ],
   "source": [
    "# Explore the correlations between the features.\n",
    "\n",
    "train_df.corr() "
   ]
  },
  {
   "cell_type": "code",
   "execution_count": 13,
   "metadata": {},
   "outputs": [
    {
     "data": {
      "text/plain": [
       "Text(0, 0.5, 'Survival rate')"
      ]
     },
     "execution_count": 13,
     "metadata": {},
     "output_type": "execute_result"
    },
    {
     "data": {
      "image/png": "[encoded data removed]",
      "text/plain": [
       "<Figure size 1000x600 with 1 Axes>"
      ]
     },
     "metadata": {},
     "output_type": "display_data"
    }
   ],
   "source": [
    "column = \"Age\"\n",
    "\n",
    "grouped = train_df.groupby(column)['Survived'].mean().reset_index()\n",
    "    # Create plot\n",
    "plt.figure(figsize=(10,6))\n",
    "sns.barplot(x=column, y='Survived', data=grouped)\n",
    "plt.title(f\"Survival rate by {column}\")\n",
    "plt.xlabel(column)\n",
    "plt.ylabel(\"Survival rate\")\n",
    "    #plt.show()\n"
   ]
  },
  {
   "cell_type": "code",
   "execution_count": 4,
   "metadata": {},
   "outputs": [
    {
     "data": {
      "image/png": "[encoded data removed]",
      "text/plain": [
       "<Figure size 1000x600 with 1 Axes>"
      ]
     },
     "metadata": {},
     "output_type": "display_data"
    }
   ],
   "source": [
    "# Separate fares of passengers who survived and who did not survive\n",
    "survived_fares = train_df[train_df['Survived'] == 1]['Fare']\n",
    "not_survived_fares = train_df[train_df['Survived'] == 0]['Fare']\n",
    "\n",
    "# Create the histogram\n",
    "plt.figure(figsize=(10,6))\n",
    "plt.hist(survived_fares, bins=30, alpha=0.5, label='Survived')\n",
    "plt.hist(not_survived_fares, bins=30, alpha=0.5, label='Not Survived')\n",
    "plt.xlabel('Fare')\n",
    "plt.ylabel('Frequency')\n",
    "plt.title('Histogram of Fares by Survival')\n",
    "plt.legend()\n",
    "plt.show()\n"
   ]
  },
  {
   "cell_type": "code",
   "execution_count": 40,
   "metadata": {},
   "outputs": [],
   "source": [
    "log_df = train_df.copy(deep=True)\n",
    "#log_df.fillna(log_df['Age'].mean(), inplace=True)"
   ]
  },
  {
   "cell_type": "code",
   "execution_count": 12,
   "metadata": {},
   "outputs": [],
   "source": [
    "#log_df['Fare'] = log_df['Fare'].replace(0, np.NaN)"
   ]
  },
  {
   "cell_type": "code",
   "execution_count": 65,
   "metadata": {},
   "outputs": [
    {
     "data": {
      "text/plain": [
       "(array([14.,  0.,  0.,  0.,  0.,  0.,  0.,  0.,  0.,  0.,  0.,  0.,  0.,\n",
       "         0.,  0.,  0.,  0.,  0.,  0.,  0.,  0.,  0.,  0.,  0.,  0.,  0.,\n",
       "         0.,  0.,  0.,  0.,  0.,  0.,  0.,  0.,  0.,  0.,  0.,  0.,  0.,\n",
       "         0.,  0.,  0.,  0.,  0.,  0.,  0.,  0.,  0.,  0.,  0.,  0.,  0.,\n",
       "         0.,  0.,  0.,  0.,  0.,  0.,  0.,  0.,  0.,  0.,  0.,  0.,  0.,\n",
       "         0.,  0.,  0.,  0.,  0.,  0.,  0.,  0.,  0.,  0.,  0.,  0.,  0.,\n",
       "         0.,  0.,  0.,  0.,  0.,  0.,  0.,  0.,  0.,  0.,  0.,  0.,  0.,\n",
       "         0.,  0.,  0.,  0.,  0.,  0.,  0.,  0.,  0.,  0.,  0.,  0.,  0.,\n",
       "         0.,  0.,  0.,  0.,  0.,  0.,  0.,  0.,  0.,  0.,  0.,  0.,  0.,\n",
       "         0.,  0.,  0.,  0.,  0.,  0.,  0.,  0.,  0.,  0.,  0.,  0.,  0.,\n",
       "         0.,  0.,  0.,  0.,  0.,  0.,  0.,  0.,  0.,  0.,  0.,  0.,  0.,\n",
       "         0.,  0.,  0.,  0.,  0.,  0.,  0.,  0.,  0.,  0.,  0.,  0.,  0.,\n",
       "         0.,  0.,  0.,  0.,  0.,  0.,  0.,  0.,  0.,  0.,  0.,  0.,  0.,\n",
       "         0.,  0.,  0.,  0.,  0.,  0.,  0.,  0.,  1.,  0.,  0.,  0.,  0.,\n",
       "         0.,  0.,  0.,  0.,  0.,  0.,  0.,  0.,  0.,  0.,  0.,  1.,  0.,\n",
       "         0.,  0.,  0.,  0.,  0.,  0.,  0.,  0.,  0.,  0.,  0.,  0.,  0.,\n",
       "         0.,  0.,  1.,  0.,  2.,  1.,  0.,  2.,  0.,  1.,  3.,  7.,  4.,\n",
       "        31.,  1.,  3.,  4.,  3., 56., 48., 16., 37.,  1.,  1.,  3.,  2.,\n",
       "        11.,  2.,  1.,  2.,  0.,  2.,  2.,  7.,  2.,  0.,  5.,  0.,  0.,\n",
       "         0.,  0., 22.,  0.,  0.,  0.,  0.,  4.,  0.,  2.,  0.,  0.,  1.,\n",
       "         0.,  1.,  2.,  4.,  1.,  0., 35.,  0.,  0.,  2.,  1.,  3.,  1.,\n",
       "         0., 13.,  0.,  0.,  3.,  3.,  6.,  1.,  9.,  8.,  0.,  0.,  1.,\n",
       "         0.,  0.,  1.,  0.,  2.,  3.,  0.,  0.,  3.,  1.,  3.,  2.,  0.,\n",
       "         1.,  3.,  2.,  2.,  4.,  3.,  0.,  1.,  1.,  2.,  0.,  4.,  1.,\n",
       "         2.,  0.,  7.,  0.,  0.,  0.,  0.,  4., 24., 10., 10.,  2.,  0.,\n",
       "         7.,  6.,  1.,  1.,  6.,  0.,  2.,  7.,  6.,  2., 10.,  0.,  1.,\n",
       "         1.,  1.,  1.,  0.,  5.,  1.,  1.,  4.,  0.,  0.,  3.,  0.,  0.,\n",
       "         0.,  4.,  1.,  4.,  0.,  0.,  0.,  1.,  1.,  0.,  0.,  0.,  0.,\n",
       "         0.,  0.,  0.,  7.,  0.,  0.,  0.,  2.,  1.,  1.,  0., 10.,  2.,\n",
       "         3.,  0.,  0.,  1.,  3.,  4.,  4.,  1.,  0.,  1.,  0.,  1.,  2.,\n",
       "         0.,  1.,  0.,  1.,  0.,  1.,  0.,  0.,  0.,  6.,  1.,  0.,  0.,\n",
       "         4.,  0.,  1.,  1.,  5.,  3.,  5.,  4.,  0.,  3.,  4.,  0.,  0.,\n",
       "         2.,  0.,  0.,  5.,  2.,  0.,  2.,  0.,  0.,  0.,  0.,  0.,  0.,\n",
       "         0.,  0.,  0.,  0.,  2.,  0.,  1.,  3.,  0.,  2.,  0.,  0.,  0.,\n",
       "         0.,  3.,  0.,  0.,  0.,  0.,  0.,  0.,  0.,  2.,  4.,  0.,  0.,\n",
       "         0.,  0.,  0.,  0.,  2.,  0.,  4.,  2.,  0.,  0.,  0.,  0.,  0.,\n",
       "         1.,  0.,  0.,  0.,  0.,  0.,  0.,  0.,  0.,  0.,  0.,  0.,  0.,\n",
       "         0.,  0.,  0.,  0.,  0.,  0.,  0.,  4.,  0.,  0.,  0.,  1.,  0.,\n",
       "         3.,  0.,  0.,  0.,  0.,  0.,  0.,  2.,  0.,  0.,  0.,  0.,  5.,\n",
       "         0.,  0.,  0.,  0.,  0.,  0.,  0.,  0.,  0.,  0.,  0.,  0.,  0.,\n",
       "         0.,  0.,  0.,  0.,  0.,  0.,  0.,  0.,  0.,  0.,  0.,  0.,  0.,\n",
       "         0.,  0.,  0.,  0.,  0.,  0.,  0.,  0.,  0.,  0.,  0.,  0.,  0.,\n",
       "         0.,  0.,  0.,  0.,  0.,  0.,  0.,  0.,  0.,  0.,  0.,  0.,  0.,\n",
       "         2.]),\n",
       " array([-6.93147181e-01, -6.80766663e-01, -6.68386145e-01, -6.56005627e-01,\n",
       "        -6.43625109e-01, -6.31244591e-01, -6.18864073e-01, -6.06483555e-01,\n",
       "        -5.94103037e-01, -5.81722519e-01, -5.69342002e-01, -5.56961484e-01,\n",
       "        -5.44580966e-01, -5.32200448e-01, -5.19819930e-01, -5.07439412e-01,\n",
       "        -4.95058894e-01, -4.82678376e-01, -4.70297858e-01, -4.57917340e-01,\n",
       "        -4.45536822e-01, -4.33156305e-01, -4.20775787e-01, -4.08395269e-01,\n",
       "        -3.96014751e-01, -3.83634233e-01, -3.71253715e-01, -3.58873197e-01,\n",
       "        -3.46492679e-01, -3.34112161e-01, -3.21731643e-01, -3.09351126e-01,\n",
       "        -2.96970608e-01, -2.84590090e-01, -2.72209572e-01, -2.59829054e-01,\n",
       "        -2.47448536e-01, -2.35068018e-01, -2.22687500e-01, -2.10306982e-01,\n",
       "        -1.97926464e-01, -1.85545946e-01, -1.73165429e-01, -1.60784911e-01,\n",
       "        -1.48404393e-01, -1.36023875e-01, -1.23643357e-01, -1.11262839e-01,\n",
       "        -9.88823211e-02, -8.65018032e-02, -7.41212853e-02, -6.17407674e-02,\n",
       "        -4.93602495e-02, -3.69797316e-02, -2.45992137e-02, -1.22186958e-02,\n",
       "         1.61822122e-04,  1.25423400e-02,  2.49228579e-02,  3.73033758e-02,\n",
       "         4.96838937e-02,  6.20644116e-02,  7.44449296e-02,  8.68254475e-02,\n",
       "         9.92059654e-02,  1.11586483e-01,  1.23967001e-01,  1.36347519e-01,\n",
       "         1.48728037e-01,  1.61108555e-01,  1.73489073e-01,  1.85869591e-01,\n",
       "         1.98250109e-01,  2.10630627e-01,  2.23011144e-01,  2.35391662e-01,\n",
       "         2.47772180e-01,  2.60152698e-01,  2.72533216e-01,  2.84913734e-01,\n",
       "         2.97294252e-01,  3.09674770e-01,  3.22055288e-01,  3.34435806e-01,\n",
       "         3.46816323e-01,  3.59196841e-01,  3.71577359e-01,  3.83957877e-01,\n",
       "         3.96338395e-01,  4.08718913e-01,  4.21099431e-01,  4.33479949e-01,\n",
       "         4.45860467e-01,  4.58240985e-01,  4.70621503e-01,  4.83002020e-01,\n",
       "         4.95382538e-01,  5.07763056e-01,  5.20143574e-01,  5.32524092e-01,\n",
       "         5.44904610e-01,  5.57285128e-01,  5.69665646e-01,  5.82046164e-01,\n",
       "         5.94426682e-01,  6.06807199e-01,  6.19187717e-01,  6.31568235e-01,\n",
       "         6.43948753e-01,  6.56329271e-01,  6.68709789e-01,  6.81090307e-01,\n",
       "         6.93470825e-01,  7.05851343e-01,  7.18231861e-01,  7.30612379e-01,\n",
       "         7.42992896e-01,  7.55373414e-01,  7.67753932e-01,  7.80134450e-01,\n",
       "         7.92514968e-01,  8.04895486e-01,  8.17276004e-01,  8.29656522e-01,\n",
       "         8.42037040e-01,  8.54417558e-01,  8.66798075e-01,  8.79178593e-01,\n",
       "         8.91559111e-01,  9.03939629e-01,  9.16320147e-01,  9.28700665e-01,\n",
       "         9.41081183e-01,  9.53461701e-01,  9.65842219e-01,  9.78222737e-01,\n",
       "         9.90603255e-01,  1.00298377e+00,  1.01536429e+00,  1.02774481e+00,\n",
       "         1.04012533e+00,  1.05250584e+00,  1.06488636e+00,  1.07726688e+00,\n",
       "         1.08964740e+00,  1.10202792e+00,  1.11440843e+00,  1.12678895e+00,\n",
       "         1.13916947e+00,  1.15154999e+00,  1.16393051e+00,  1.17631102e+00,\n",
       "         1.18869154e+00,  1.20107206e+00,  1.21345258e+00,  1.22583309e+00,\n",
       "         1.23821361e+00,  1.25059413e+00,  1.26297465e+00,  1.27535517e+00,\n",
       "         1.28773568e+00,  1.30011620e+00,  1.31249672e+00,  1.32487724e+00,\n",
       "         1.33725776e+00,  1.34963827e+00,  1.36201879e+00,  1.37439931e+00,\n",
       "         1.38677983e+00,  1.39916035e+00,  1.41154086e+00,  1.42392138e+00,\n",
       "         1.43630190e+00,  1.44868242e+00,  1.46106293e+00,  1.47344345e+00,\n",
       "         1.48582397e+00,  1.49820449e+00,  1.51058501e+00,  1.52296552e+00,\n",
       "         1.53534604e+00,  1.54772656e+00,  1.56010708e+00,  1.57248760e+00,\n",
       "         1.58486811e+00,  1.59724863e+00,  1.60962915e+00,  1.62200967e+00,\n",
       "         1.63439019e+00,  1.64677070e+00,  1.65915122e+00,  1.67153174e+00,\n",
       "         1.68391226e+00,  1.69629278e+00,  1.70867329e+00,  1.72105381e+00,\n",
       "         1.73343433e+00,  1.74581485e+00,  1.75819536e+00,  1.77057588e+00,\n",
       "         1.78295640e+00,  1.79533692e+00,  1.80771744e+00,  1.82009795e+00,\n",
       "         1.83247847e+00,  1.84485899e+00,  1.85723951e+00,  1.86962003e+00,\n",
       "         1.88200054e+00,  1.89438106e+00,  1.90676158e+00,  1.91914210e+00,\n",
       "         1.93152262e+00,  1.94390313e+00,  1.95628365e+00,  1.96866417e+00,\n",
       "         1.98104469e+00,  1.99342520e+00,  2.00580572e+00,  2.01818624e+00,\n",
       "         2.03056676e+00,  2.04294728e+00,  2.05532779e+00,  2.06770831e+00,\n",
       "         2.08008883e+00,  2.09246935e+00,  2.10484987e+00,  2.11723038e+00,\n",
       "         2.12961090e+00,  2.14199142e+00,  2.15437194e+00,  2.16675246e+00,\n",
       "         2.17913297e+00,  2.19151349e+00,  2.20389401e+00,  2.21627453e+00,\n",
       "         2.22865505e+00,  2.24103556e+00,  2.25341608e+00,  2.26579660e+00,\n",
       "         2.27817712e+00,  2.29055763e+00,  2.30293815e+00,  2.31531867e+00,\n",
       "         2.32769919e+00,  2.34007971e+00,  2.35246022e+00,  2.36484074e+00,\n",
       "         2.37722126e+00,  2.38960178e+00,  2.40198230e+00,  2.41436281e+00,\n",
       "         2.42674333e+00,  2.43912385e+00,  2.45150437e+00,  2.46388489e+00,\n",
       "         2.47626540e+00,  2.48864592e+00,  2.50102644e+00,  2.51340696e+00,\n",
       "         2.52578747e+00,  2.53816799e+00,  2.55054851e+00,  2.56292903e+00,\n",
       "         2.57530955e+00,  2.58769006e+00,  2.60007058e+00,  2.61245110e+00,\n",
       "         2.62483162e+00,  2.63721214e+00,  2.64959265e+00,  2.66197317e+00,\n",
       "         2.67435369e+00,  2.68673421e+00,  2.69911473e+00,  2.71149524e+00,\n",
       "         2.72387576e+00,  2.73625628e+00,  2.74863680e+00,  2.76101731e+00,\n",
       "         2.77339783e+00,  2.78577835e+00,  2.79815887e+00,  2.81053939e+00,\n",
       "         2.82291990e+00,  2.83530042e+00,  2.84768094e+00,  2.86006146e+00,\n",
       "         2.87244198e+00,  2.88482249e+00,  2.89720301e+00,  2.90958353e+00,\n",
       "         2.92196405e+00,  2.93434457e+00,  2.94672508e+00,  2.95910560e+00,\n",
       "         2.97148612e+00,  2.98386664e+00,  2.99624716e+00,  3.00862767e+00,\n",
       "         3.02100819e+00,  3.03338871e+00,  3.04576923e+00,  3.05814974e+00,\n",
       "         3.07053026e+00,  3.08291078e+00,  3.09529130e+00,  3.10767182e+00,\n",
       "         3.12005233e+00,  3.13243285e+00,  3.14481337e+00,  3.15719389e+00,\n",
       "         3.16957441e+00,  3.18195492e+00,  3.19433544e+00,  3.20671596e+00,\n",
       "         3.21909648e+00,  3.23147700e+00,  3.24385751e+00,  3.25623803e+00,\n",
       "         3.26861855e+00,  3.28099907e+00,  3.29337958e+00,  3.30576010e+00,\n",
       "         3.31814062e+00,  3.33052114e+00,  3.34290166e+00,  3.35528217e+00,\n",
       "         3.36766269e+00,  3.38004321e+00,  3.39242373e+00,  3.40480425e+00,\n",
       "         3.41718476e+00,  3.42956528e+00,  3.44194580e+00,  3.45432632e+00,\n",
       "         3.46670684e+00,  3.47908735e+00,  3.49146787e+00,  3.50384839e+00,\n",
       "         3.51622891e+00,  3.52860943e+00,  3.54098994e+00,  3.55337046e+00,\n",
       "         3.56575098e+00,  3.57813150e+00,  3.59051201e+00,  3.60289253e+00,\n",
       "         3.61527305e+00,  3.62765357e+00,  3.64003409e+00,  3.65241460e+00,\n",
       "         3.66479512e+00,  3.67717564e+00,  3.68955616e+00,  3.70193668e+00,\n",
       "         3.71431719e+00,  3.72669771e+00,  3.73907823e+00,  3.75145875e+00,\n",
       "         3.76383927e+00,  3.77621978e+00,  3.78860030e+00,  3.80098082e+00,\n",
       "         3.81336134e+00,  3.82574185e+00,  3.83812237e+00,  3.85050289e+00,\n",
       "         3.86288341e+00,  3.87526393e+00,  3.88764444e+00,  3.90002496e+00,\n",
       "         3.91240548e+00,  3.92478600e+00,  3.93716652e+00,  3.94954703e+00,\n",
       "         3.96192755e+00,  3.97430807e+00,  3.98668859e+00,  3.99906911e+00,\n",
       "         4.01144962e+00,  4.02383014e+00,  4.03621066e+00,  4.04859118e+00,\n",
       "         4.06097169e+00,  4.07335221e+00,  4.08573273e+00,  4.09811325e+00,\n",
       "         4.11049377e+00,  4.12287428e+00,  4.13525480e+00,  4.14763532e+00,\n",
       "         4.16001584e+00,  4.17239636e+00,  4.18477687e+00,  4.19715739e+00,\n",
       "         4.20953791e+00,  4.22191843e+00,  4.23429895e+00,  4.24667946e+00,\n",
       "         4.25905998e+00,  4.27144050e+00,  4.28382102e+00,  4.29620154e+00,\n",
       "         4.30858205e+00,  4.32096257e+00,  4.33334309e+00,  4.34572361e+00,\n",
       "         4.35810412e+00,  4.37048464e+00,  4.38286516e+00,  4.39524568e+00,\n",
       "         4.40762620e+00,  4.42000671e+00,  4.43238723e+00,  4.44476775e+00,\n",
       "         4.45714827e+00,  4.46952879e+00,  4.48190930e+00,  4.49428982e+00,\n",
       "         4.50667034e+00,  4.51905086e+00,  4.53143138e+00,  4.54381189e+00,\n",
       "         4.55619241e+00,  4.56857293e+00,  4.58095345e+00,  4.59333396e+00,\n",
       "         4.60571448e+00,  4.61809500e+00,  4.63047552e+00,  4.64285604e+00,\n",
       "         4.65523655e+00,  4.66761707e+00,  4.67999759e+00,  4.69237811e+00,\n",
       "         4.70475863e+00,  4.71713914e+00,  4.72951966e+00,  4.74190018e+00,\n",
       "         4.75428070e+00,  4.76666122e+00,  4.77904173e+00,  4.79142225e+00,\n",
       "         4.80380277e+00,  4.81618329e+00,  4.82856381e+00,  4.84094432e+00,\n",
       "         4.85332484e+00,  4.86570536e+00,  4.87808588e+00,  4.89046639e+00,\n",
       "         4.90284691e+00,  4.91522743e+00,  4.92760795e+00,  4.93998847e+00,\n",
       "         4.95236898e+00,  4.96474950e+00,  4.97713002e+00,  4.98951054e+00,\n",
       "         5.00189106e+00,  5.01427157e+00,  5.02665209e+00,  5.03903261e+00,\n",
       "         5.05141313e+00,  5.06379365e+00,  5.07617416e+00,  5.08855468e+00,\n",
       "         5.10093520e+00,  5.11331572e+00,  5.12569623e+00,  5.13807675e+00,\n",
       "         5.15045727e+00,  5.16283779e+00,  5.17521831e+00,  5.18759882e+00,\n",
       "         5.19997934e+00,  5.21235986e+00,  5.22474038e+00,  5.23712090e+00,\n",
       "         5.24950141e+00,  5.26188193e+00,  5.27426245e+00,  5.28664297e+00,\n",
       "         5.29902349e+00,  5.31140400e+00,  5.32378452e+00,  5.33616504e+00,\n",
       "         5.34854556e+00,  5.36092608e+00,  5.37330659e+00,  5.38568711e+00,\n",
       "         5.39806763e+00,  5.41044815e+00,  5.42282866e+00,  5.43520918e+00,\n",
       "         5.44758970e+00,  5.45997022e+00,  5.47235074e+00,  5.48473125e+00,\n",
       "         5.49711177e+00,  5.50949229e+00,  5.52187281e+00,  5.53425333e+00,\n",
       "         5.54663384e+00,  5.55901436e+00,  5.57139488e+00,  5.58377540e+00,\n",
       "         5.59615592e+00,  5.60853643e+00,  5.62091695e+00,  5.63329747e+00,\n",
       "         5.64567799e+00,  5.65805850e+00,  5.67043902e+00,  5.68281954e+00,\n",
       "         5.69520006e+00,  5.70758058e+00,  5.71996109e+00,  5.73234161e+00,\n",
       "         5.74472213e+00,  5.75710265e+00,  5.76948317e+00,  5.78186368e+00,\n",
       "         5.79424420e+00,  5.80662472e+00,  5.81900524e+00,  5.83138576e+00,\n",
       "         5.84376627e+00,  5.85614679e+00,  5.86852731e+00,  5.88090783e+00,\n",
       "         5.89328834e+00,  5.90566886e+00,  5.91804938e+00,  5.93042990e+00,\n",
       "         5.94281042e+00,  5.95519093e+00,  5.96757145e+00,  5.97995197e+00,\n",
       "         5.99233249e+00,  6.00471301e+00,  6.01709352e+00,  6.02947404e+00,\n",
       "         6.04185456e+00,  6.05423508e+00,  6.06661560e+00,  6.07899611e+00,\n",
       "         6.09137663e+00,  6.10375715e+00,  6.11613767e+00,  6.12851819e+00,\n",
       "         6.14089870e+00,  6.15327922e+00,  6.16565974e+00,  6.17804026e+00,\n",
       "         6.19042077e+00,  6.20280129e+00,  6.21518181e+00,  6.22756233e+00,\n",
       "         6.23994285e+00]),\n",
       " <BarContainer object of 560 artists>)"
      ]
     },
     "execution_count": 65,
     "metadata": {},
     "output_type": "execute_result"
    },
    {
     "data": {
      "image/png": "[encoded data removed]",
      "text/plain": [
       "<Figure size 640x480 with 1 Axes>"
      ]
     },
     "metadata": {},
     "output_type": "display_data"
    }
   ],
   "source": [
    "#log_df = fill_missing_with_regression(log_df, ['Pclass','Age','SibSp','Parch'], 'Fare')\n",
    "#log_df['Fares_log'] = np.log(log_df['Fare'])\n",
    "plt.hist(np.log(log_df['Fare'] + 0.5) , bins=560)"
   ]
  },
  {
   "cell_type": "code",
   "execution_count": 8,
   "metadata": {},
   "outputs": [
    {
     "data": {
      "image/png": "[encoded data removed]",
      "text/plain": [
       "<Figure size 1000x600 with 1 Axes>"
      ]
     },
     "metadata": {},
     "output_type": "display_data"
    }
   ],
   "source": [
    "# Separate fares of passengers who survived and who did not survive\n",
    "survived_fares = train_df[train_df['Survived'] == 1]['Age']\n",
    "not_survived_fares = train_df[train_df['Survived'] == 0]['Age']\n",
    "\n",
    "# Create the histogram\n",
    "plt.figure(figsize=(10,6))\n",
    "plt.hist(survived_fares, bins=30, alpha=0.5, label='Survived')\n",
    "plt.hist(not_survived_fares, bins=30, alpha=0.5, label='Not Survived')\n",
    "plt.xlabel('Age')\n",
    "plt.ylabel('Frequency')\n",
    "plt.title('Histogram of Ages by Survival')\n",
    "plt.legend()\n",
    "plt.show()\n"
   ]
  },
  {
   "cell_type": "code",
   "execution_count": 7,
   "metadata": {},
   "outputs": [
    {
     "data": {
      "text/plain": [
       "<Axes: xlabel='age_group'>"
      ]
     },
     "execution_count": 7,
     "metadata": {},
     "output_type": "execute_result"
    },
    {
     "data": {
      "image/png": "[encoded data removed]",
      "text/plain": [
       "<Figure size 640x480 with 1 Axes>"
      ]
     },
     "metadata": {},
     "output_type": "display_data"
    }
   ],
   "source": [
    "# Divide age into groups\n",
    "train_df['age_group'] = pd.cut(train_df['Age'], bins=[0, 18, 30, 50, 80])\n",
    "\n",
    "# Count the number of survivors and non-survivors in each age group\n",
    "age_survived = train_df.groupby(['age_group', 'Survived'])['PassengerId'].count().unstack()\n",
    "\n",
    "# Plot a stacked bar plot of the counts\n",
    "age_survived.plot(kind='bar', stacked=False)\n"
   ]
  },
  {
   "cell_type": "code",
   "execution_count": 6,
   "metadata": {},
   "outputs": [
    {
     "name": "stdout",
     "output_type": "stream",
     "text": [
      "[ 0.42       11.78857143 23.15714286 34.52571429 45.89428571 57.26285714\n",
      " 68.63142857 80.        ]\n",
      "['age_label_0', 'age_label_1', 'age_label_2', 'age_label_3', 'age_label_4', 'age_label_5', 'age_label_6']\n"
     ]
    },
    {
     "data": {
      "image/png": "[encoded data removed]",
      "text/plain": [
       "<Figure size 640x480 with 1 Axes>"
      ]
     },
     "metadata": {},
     "output_type": "display_data"
    }
   ],
   "source": [
    "\n",
    "# Separate the ages for the survivors and non-survivors\n",
    "survived_age = train_df[train_df['Survived']==1]['Age']\n",
    "not_survived_age = train_df[train_df['Survived']==0]['Age']\n",
    "\n",
    "# Create histogram with two groups, specifying bins and alpha values\n",
    "n, bin_edges_age, patches = plt.hist(survived_age, bins=7, alpha=0.5, label='Survived')\n",
    "#plt.hist(not_survived_age, bins=15, alpha=0.5, label='Not Survived')\n",
    "\n",
    "print(bin_edges_age)\n",
    "\n",
    "bin_edges_age_labels = [f'age_label_{i}' for i in range(len(bin_edges_age)-1)]\n",
    "print(bin_edges_age_labels)\n",
    "\n",
    "# Add labels and legend\n",
    "plt.xlabel('Age')\n",
    "plt.ylabel('Count')\n",
    "plt.legend(loc='upper right')\n",
    "\n",
    "# Show the plot\n",
    "plt.show()\n"
   ]
  },
  {
   "cell_type": "code",
   "execution_count": 6,
   "metadata": {},
   "outputs": [
    {
     "data": {
      "text/plain": [
       "8"
      ]
     },
     "execution_count": 6,
     "metadata": {},
     "output_type": "execute_result"
    }
   ],
   "source": [
    "len(bin_edges_age)"
   ]
  },
  {
   "cell_type": "code",
   "execution_count": 7,
   "metadata": {},
   "outputs": [
    {
     "name": "stdout",
     "output_type": "stream",
     "text": [
      "[  0.   52.6 105.2 157.8 210.4 263. ]\n",
      "<class 'numpy.ndarray'>\n"
     ]
    },
    {
     "data": {
      "image/png": "[encoded data removed]",
      "text/plain": [
       "<Figure size 640x480 with 1 Axes>"
      ]
     },
     "metadata": {},
     "output_type": "display_data"
    }
   ],
   "source": [
    "# explore bins for fare variable\n",
    "\n",
    "# Separate the ages for the survivors and non-survivors\n",
    "survived_fare = train_df[train_df['Survived']==1]['Fare']\n",
    "not_survived_fare = train_df[train_df['Survived']==0]['Fare']\n",
    "\n",
    "# Create histogram with two groups, specifying bins and alpha values\n",
    "#plt.hist(survived_fare, bins=24, alpha=0.5, label='Survived')\n",
    "n, bin_edges_fare, patches = plt.hist(not_survived_fare, bins=5, alpha=0.5, label='Not Survived')\n",
    "\n",
    "bin_edges_fare_labels = [f'fare_label_{i}' for i in range(len(bin_edges_fare)-1)]\n",
    "\n",
    "# Print the bin edges\n",
    "print(bin_edges_fare)\n",
    "print(type(bin_edges_fare))\n",
    "# Add labels and legend\n",
    "plt.xlabel('Fare')\n",
    "plt.ylabel('Count')\n",
    "plt.legend(loc='upper right')\n",
    "\n",
    "# Show the plot\n",
    "plt.show()\n"
   ]
  },
  {
   "cell_type": "code",
   "execution_count": 9,
   "metadata": {},
   "outputs": [],
   "source": [
    "def fill_missing_with_regression(df, reg_cols, target_col):\n",
    "    # split data into rows with and without missing target values\n",
    "    missing = df[df[target_col].isna()]\n",
    "    not_missing = df[~df[target_col].isna()]\n",
    "\n",
    "    # fit linear regression model to non-missing data\n",
    "    lr = LinearRegression()\n",
    "    lr.fit(not_missing[reg_cols], not_missing[target_col])\n",
    "\n",
    "    # predict target for missing data\n",
    "    missing[target_col] = lr.predict(missing[reg_cols])\n",
    "\n",
    "    # merge data back together\n",
    "    df = pd.concat([missing, not_missing])\n",
    "\n",
    "    # sort by PassengerId\n",
    "    df = df.sort_values(by=['PassengerId'])\n",
    "    \n",
    "    return df\n"
   ]
  },
  {
   "cell_type": "code",
   "execution_count": 32,
   "metadata": {},
   "outputs": [],
   "source": [
    "def perform_transformations(dataset):\n",
    "    dataset['Fare'].fillna(dataset['Fare'].mean(), inplace=True)\n",
    "    \n",
    "    # Create a new categorical variable based on age, binned into 15 categories\n",
    "    dataset['Age_Category'] = pd.cut(dataset['Age'], bins=bin_edges_age, labels=bin_edges_age_labels, include_lowest=True)\n",
    "        \n",
    "    #dataset['Fare'].fillna(dataset['Fare'].median(), inplace=True)\n",
    "    \n",
    "    dataset['Fare_Category'] = pd.cut(dataset['Fare'], bins=bin_edges_fare, labels=bin_edges_fare_labels, include_lowest=True)\n",
    "\n",
    "    \n",
    "    dataset = pd.get_dummies(dataset, columns=['Sex'])\n",
    "    dataset = pd.get_dummies(dataset, columns=['Embarked'])\n",
    "    dataset = pd.get_dummies(dataset, columns=['Age_Category'])\n",
    "    dataset = pd.get_dummies(dataset, columns=['Fare_Category'])\n",
    "\n",
    "    #dataset['Cabin'] = dataset['Cabin'].apply(lambda x: 0 if pd.isna(x) else (2 if x[0] == 'B' or x[0] == 'C' else 1))\n",
    "    # Define a dictionary to map cabin letters to numbers\n",
    "    cabin_mapping = {'A': 1, 'B': 2, 'C': 3, 'D': 4, 'E': 5, 'F': 6, 'G': 7}\n",
    "\n",
    "    # Apply the mapping to the 'Cabin' column in the 'dataset' data frame\n",
    "    dataset['Cabin'] = dataset['Cabin'].str[0].map(cabin_mapping)\n",
    "    dataset['Cabin'] = dataset['Cabin'].astype(float)\n",
    "    dataset = fill_missing_with_regression(dataset, ['Pclass', 'SibSp', 'Parch', 'Fare'], 'Age')\n",
    "    dataset = fill_missing_with_regression(dataset, ['Pclass', 'Age', 'Fare'], 'Cabin')\n",
    "    \n",
    "    dataset.drop(['Name', 'Ticket', 'Age', 'Fare'], axis=1, inplace=True)\n",
    "    #print(dataset.head())\n",
    "    return dataset.astype(float)"
   ]
  },
  {
   "cell_type": "code",
   "execution_count": 33,
   "metadata": {},
   "outputs": [
    {
     "name": "stderr",
     "output_type": "stream",
     "text": [
      "/var/folders/cb/p11211352wv37xf0h3t_mh9c0000gn/T/ipykernel_56528/1034814493.py:11: SettingWithCopyWarning: \n",
      "A value is trying to be set on a copy of a slice from a DataFrame.\n",
      "Try using .loc[row_indexer,col_indexer] = value instead\n",
      "\n",
      "See the caveats in the documentation: https://pandas.pydata.org/pandas-docs/stable/user_guide/indexing.html#returning-a-view-versus-a-copy\n",
      "  missing[target_col] = lr.predict(missing[reg_cols])\n",
      "/var/folders/cb/p11211352wv37xf0h3t_mh9c0000gn/T/ipykernel_56528/1034814493.py:11: SettingWithCopyWarning: \n",
      "A value is trying to be set on a copy of a slice from a DataFrame.\n",
      "Try using .loc[row_indexer,col_indexer] = value instead\n",
      "\n",
      "See the caveats in the documentation: https://pandas.pydata.org/pandas-docs/stable/user_guide/indexing.html#returning-a-view-versus-a-copy\n",
      "  missing[target_col] = lr.predict(missing[reg_cols])\n",
      "/var/folders/cb/p11211352wv37xf0h3t_mh9c0000gn/T/ipykernel_56528/1034814493.py:11: SettingWithCopyWarning: \n",
      "A value is trying to be set on a copy of a slice from a DataFrame.\n",
      "Try using .loc[row_indexer,col_indexer] = value instead\n",
      "\n",
      "See the caveats in the documentation: https://pandas.pydata.org/pandas-docs/stable/user_guide/indexing.html#returning-a-view-versus-a-copy\n",
      "  missing[target_col] = lr.predict(missing[reg_cols])\n",
      "/var/folders/cb/p11211352wv37xf0h3t_mh9c0000gn/T/ipykernel_56528/1034814493.py:11: SettingWithCopyWarning: \n",
      "A value is trying to be set on a copy of a slice from a DataFrame.\n",
      "Try using .loc[row_indexer,col_indexer] = value instead\n",
      "\n",
      "See the caveats in the documentation: https://pandas.pydata.org/pandas-docs/stable/user_guide/indexing.html#returning-a-view-versus-a-copy\n",
      "  missing[target_col] = lr.predict(missing[reg_cols])\n",
      "/var/folders/cb/p11211352wv37xf0h3t_mh9c0000gn/T/ipykernel_56528/1034814493.py:11: SettingWithCopyWarning: \n",
      "A value is trying to be set on a copy of a slice from a DataFrame.\n",
      "Try using .loc[row_indexer,col_indexer] = value instead\n",
      "\n",
      "See the caveats in the documentation: https://pandas.pydata.org/pandas-docs/stable/user_guide/indexing.html#returning-a-view-versus-a-copy\n",
      "  missing[target_col] = lr.predict(missing[reg_cols])\n",
      "/var/folders/cb/p11211352wv37xf0h3t_mh9c0000gn/T/ipykernel_56528/1034814493.py:11: SettingWithCopyWarning: \n",
      "A value is trying to be set on a copy of a slice from a DataFrame.\n",
      "Try using .loc[row_indexer,col_indexer] = value instead\n",
      "\n",
      "See the caveats in the documentation: https://pandas.pydata.org/pandas-docs/stable/user_guide/indexing.html#returning-a-view-versus-a-copy\n",
      "  missing[target_col] = lr.predict(missing[reg_cols])\n"
     ]
    }
   ],
   "source": [
    "train_df = perform_transformations(train_df)\n",
    "test_df = perform_transformations(test_df)\n",
    "pred_df = perform_transformations(pred_df)\n",
    "train_df.drop(['PassengerId'], axis=1, inplace=True)\n",
    "test_df.drop(['PassengerId'], axis=1, inplace=True)\n"
   ]
  },
  {
   "cell_type": "code",
   "execution_count": 17,
   "metadata": {},
   "outputs": [
    {
     "data": {
      "text/plain": [
       "Survived                      float64\n",
       "Pclass                        float64\n",
       "SibSp                         float64\n",
       "Parch                         float64\n",
       "Cabin                         float64\n",
       "Sex_female                    float64\n",
       "Sex_male                      float64\n",
       "Embarked_C                    float64\n",
       "Embarked_Q                    float64\n",
       "Embarked_S                    float64\n",
       "Age_Category_age_label_0      float64\n",
       "Age_Category_age_label_1      float64\n",
       "Age_Category_age_label_2      float64\n",
       "Age_Category_age_label_3      float64\n",
       "Age_Category_age_label_4      float64\n",
       "Age_Category_age_label_5      float64\n",
       "Age_Category_age_label_6      float64\n",
       "Fare_Category_fare_label_0    float64\n",
       "Fare_Category_fare_label_1    float64\n",
       "Fare_Category_fare_label_2    float64\n",
       "Fare_Category_fare_label_3    float64\n",
       "Fare_Category_fare_label_4    float64\n",
       "dtype: object"
      ]
     },
     "execution_count": 17,
     "metadata": {},
     "output_type": "execute_result"
    }
   ],
   "source": [
    "train_df.dtypes"
   ]
  },
  {
   "cell_type": "code",
   "execution_count": 17,
   "metadata": {},
   "outputs": [
    {
     "data": {
      "text/plain": [
       "Index(['Survived', 'Pclass', 'SibSp', 'Parch', 'Cabin', 'Sex_female',\n",
       "       'Sex_male', 'Embarked_C', 'Embarked_Q', 'Embarked_S',\n",
       "       'Age_Category_age_label_0', 'Age_Category_age_label_1',\n",
       "       'Age_Category_age_label_2', 'Age_Category_age_label_3',\n",
       "       'Age_Category_age_label_4', 'Age_Category_age_label_5',\n",
       "       'Age_Category_age_label_6', 'Age_Category_age_label_7',\n",
       "       'Age_Category_age_label_8', 'Age_Category_age_label_9',\n",
       "       'Age_Category_age_label_10', 'Age_Category_age_label_11',\n",
       "       'Age_Category_age_label_12', 'Age_Category_age_label_13',\n",
       "       'Age_Category_age_label_14', 'Fare_Category_fare_label_0',\n",
       "       'Fare_Category_fare_label_1', 'Fare_Category_fare_label_2',\n",
       "       'Fare_Category_fare_label_3', 'Fare_Category_fare_label_4',\n",
       "       'Fare_Category_fare_label_5', 'Fare_Category_fare_label_6',\n",
       "       'Fare_Category_fare_label_7', 'Fare_Category_fare_label_8',\n",
       "       'Fare_Category_fare_label_9', 'Fare_Category_fare_label_10',\n",
       "       'Fare_Category_fare_label_11', 'Fare_Category_fare_label_12',\n",
       "       'Fare_Category_fare_label_13', 'Fare_Category_fare_label_14',\n",
       "       'Fare_Category_fare_label_15', 'Fare_Category_fare_label_16',\n",
       "       'Fare_Category_fare_label_17', 'Fare_Category_fare_label_18',\n",
       "       'Fare_Category_fare_label_19', 'Fare_Category_fare_label_20',\n",
       "       'Fare_Category_fare_label_21', 'Fare_Category_fare_label_22',\n",
       "       'Fare_Category_fare_label_23'],\n",
       "      dtype='object')"
      ]
     },
     "execution_count": 17,
     "metadata": {},
     "output_type": "execute_result"
    }
   ],
   "source": [
    "train_df.columns"
   ]
  },
  {
   "cell_type": "code",
   "execution_count": 140,
   "metadata": {},
   "outputs": [
    {
     "data": {
      "text/plain": [
       "Index(['PassengerId', 'Pclass', 'SibSp', 'Parch', 'Cabin', 'Sex_female',\n",
       "       'Sex_male', 'Embarked_C', 'Embarked_Q', 'Embarked_S',\n",
       "       'Age_Category_age_label_0', 'Age_Category_age_label_1',\n",
       "       'Age_Category_age_label_2', 'Age_Category_age_label_3',\n",
       "       'Age_Category_age_label_4', 'Age_Category_age_label_5',\n",
       "       'Age_Category_age_label_6', 'Age_Category_age_label_7',\n",
       "       'Age_Category_age_label_8', 'Age_Category_age_label_9',\n",
       "       'Age_Category_age_label_10', 'Age_Category_age_label_11',\n",
       "       'Age_Category_age_label_12', 'Age_Category_age_label_13',\n",
       "       'Age_Category_age_label_14', 'Fare_Category_fare_label_0',\n",
       "       'Fare_Category_fare_label_1', 'Fare_Category_fare_label_2',\n",
       "       'Fare_Category_fare_label_3', 'Fare_Category_fare_label_4',\n",
       "       'Fare_Category_fare_label_5', 'Fare_Category_fare_label_6',\n",
       "       'Fare_Category_fare_label_7', 'Fare_Category_fare_label_8',\n",
       "       'Fare_Category_fare_label_9', 'Fare_Category_fare_label_10',\n",
       "       'Fare_Category_fare_label_11', 'Fare_Category_fare_label_12',\n",
       "       'Fare_Category_fare_label_13', 'Fare_Category_fare_label_14',\n",
       "       'Fare_Category_fare_label_15', 'Fare_Category_fare_label_16',\n",
       "       'Fare_Category_fare_label_17', 'Fare_Category_fare_label_18',\n",
       "       'Fare_Category_fare_label_19', 'Fare_Category_fare_label_20',\n",
       "       'Fare_Category_fare_label_21', 'Fare_Category_fare_label_22',\n",
       "       'Fare_Category_fare_label_23'],\n",
       "      dtype='object')"
      ]
     },
     "execution_count": 140,
     "metadata": {},
     "output_type": "execute_result"
    }
   ],
   "source": [
    "pred_df.columns"
   ]
  },
  {
   "cell_type": "code",
   "execution_count": 81,
   "metadata": {},
   "outputs": [],
   "source": [
    "# Create a MinMaxScaler object\n",
    "#scaler = MinMaxScaler()\n",
    "\n",
    "# Normalize all columns in the training dataframe\n",
    "#train_df[train_df.columns] = scaler.fit_transform(train_df[train_df.columns])\n",
    "\n",
    "# Normalize all columns in the testing dataframe\n",
    "#test_df[test_df.columns] = scaler.transform(test_df[test_df.columns])\n",
    "\n",
    "#pred_df[pred_df.columns] = scaler.transform(pred_df[pred_df.columns])\n",
    "\n"
   ]
  },
  {
   "cell_type": "code",
   "execution_count": 34,
   "metadata": {},
   "outputs": [],
   "source": [
    "\n",
    "# Define the input shape of your neural network\n",
    "input_shape = train_df.shape[1] - 1\n",
    "\n",
    "# Define the number of output neurons in your neural network\n",
    "output_neurons = 1"
   ]
  },
  {
   "cell_type": "code",
   "execution_count": 35,
   "metadata": {},
   "outputs": [
    {
     "data": {
      "text/plain": [
       "Index(['Survived', 'Pclass', 'SibSp', 'Parch', 'Cabin', 'Fares_squared',\n",
       "       'Sex_female', 'Sex_male', 'Embarked_C', 'Embarked_Q', 'Embarked_S',\n",
       "       'Age_Category_age_label_0', 'Age_Category_age_label_1',\n",
       "       'Age_Category_age_label_2', 'Age_Category_age_label_3',\n",
       "       'Age_Category_age_label_4', 'Age_Category_age_label_5',\n",
       "       'Age_Category_age_label_6', 'Fare_Category_fare_label_0',\n",
       "       'Fare_Category_fare_label_1', 'Fare_Category_fare_label_2',\n",
       "       'Fare_Category_fare_label_3', 'Fare_Category_fare_label_4'],\n",
       "      dtype='object')"
      ]
     },
     "execution_count": 35,
     "metadata": {},
     "output_type": "execute_result"
    }
   ],
   "source": [
    "train_df.columns"
   ]
  },
  {
   "cell_type": "code",
   "execution_count": 38,
   "metadata": {},
   "outputs": [
    {
     "name": "stdout",
     "output_type": "stream",
     "text": [
      "Trial 10 Complete [00h 00m 02s]\n",
      "binary_accuracy: 0.6028119325637817\n",
      "\n",
      "Best binary_accuracy So Far: 0.6028119325637817\n",
      "Total elapsed time: 00h 00m 17s\n",
      "INFO:tensorflow:Oracle triggered exit\n",
      "The best hyperparameters are:\n",
      "units_layer1: 128\n",
      "dropout_rate1: 0.5\n",
      "units_layer2: 10\n",
      "dropout_rate2: 0.3\n",
      "units_layer3: 4\n",
      "dropout_rate3: 0.5\n",
      "optimizer: sgd\n",
      "learning_rate: 0.01\n"
     ]
    }
   ],
   "source": [
    "# Define the function to build the model with the given hyperparameters\n",
    "def build_model(hp):\n",
    "    model = keras.Sequential()\n",
    "    model.add(layers.Dense(\n",
    "        units=hp.Choice('units_layer1', [10,20,50, 76, 128]), activation='relu'))\n",
    "    model.add(layers.Dropout(hp.Choice('dropout_rate1', [0.1, 0.3, 0.5])))\n",
    "    model.add(layers.Dense(\n",
    "        units=hp.Choice('units_layer2', [10,20,50, 76, 128]), activation='relu'))\n",
    "    model.add(layers.Dropout(hp.Choice('dropout_rate2', [0.1, 0.3, 0.5])))\n",
    "    model.add(layers.Dense(\n",
    "        units=hp.Choice('units_layer3', [4,8,16,32]), activation='relu'))\n",
    "    model.add(layers.Dropout(hp.Choice('dropout_rate3', [0.1, 0.3, 0.5])))\n",
    "    model.add(layers.Dense(1, activation='sigmoid'))\n",
    "    optimizer = hp.Choice('optimizer', ['adam', 'sgd'])\n",
    "    lr = hp.Choice('learning_rate', [0.001, 0.01, 0.1])\n",
    "    if optimizer == 'adam':\n",
    "        optimizer = keras.optimizers.Adam(learning_rate=lr)\n",
    "    elif optimizer == 'sgd':\n",
    "        optimizer = keras.optimizers.SGD(learning_rate=lr)\n",
    "    model.compile(optimizer=optimizer, loss='binary_crossentropy', metrics=['binary_accuracy'])\n",
    "    return model\n",
    "\n",
    "# Define the tuner and run the search for the best hyperparameters\n",
    "tuner = RandomSearch(\n",
    "    build_model,\n",
    "    objective='binary_accuracy',\n",
    "    max_trials=10,\n",
    "    directory='my_dir',\n",
    "    project_name='titanic'\n",
    ")\n",
    "\n",
    "tuner.search(train_df.drop('Survived', axis=1), train_df['Survived'], \n",
    "             epochs=50, batch_size=64, validation_split=0.2)\n",
    "\n",
    "# Print the summary of the best hyperparameters\n",
    "best_hps = tuner.get_best_hyperparameters(num_trials=1)[0]\n",
    "print(\"The best hyperparameters are:\")\n",
    "for key, value in best_hps.values.items():\n",
    "    print(f\"{key}: {value}\")\n"
   ]
  },
  {
   "cell_type": "code",
   "execution_count": 39,
   "metadata": {},
   "outputs": [],
   "source": [
    "# Define the number of neurons in each hidden layer\n",
    "hidden_layer_1_neurons = 128\n",
    "hidden_layer_2_neurons = 10\n",
    "hidden_layer_3_neurons = 4\n",
    "\n",
    "# Define your neural network using the Sequential model in TensorFlow\n",
    "model = tf.keras.Sequential([\n",
    "    tf.keras.layers.Dense(hidden_layer_1_neurons, activation='relu', input_shape=(input_shape,)),\n",
    "    tf.keras.layers.Dropout(0.5),\n",
    "    tf.keras.layers.Dense(hidden_layer_2_neurons, activation='relu'),\n",
    "    tf.keras.layers.Dropout(0.3),\n",
    "    tf.keras.layers.Dense(hidden_layer_3_neurons, activation='relu'),\n",
    "    tf.keras.layers.Dropout(0.5),\n",
    "    tf.keras.layers.Dense(output_neurons, activation='sigmoid')\n",
    "])\n",
    "optimizer = keras.optimizers.SGD(learning_rate=0.01)\n",
    "# Compile your neural network using binary crossentropy loss and Adam optimizer\n",
    "model.compile(loss='binary_crossentropy', optimizer=optimizer, metrics=['binary_accuracy'])"
   ]
  },
  {
   "cell_type": "code",
   "execution_count": 17,
   "metadata": {},
   "outputs": [
    {
     "name": "stdout",
     "output_type": "stream",
     "text": [
      "Epoch 1/100\n",
      "12/12 [==============================] - 0s 714us/step - loss: nan - binary_accuracy: 0.6278\n",
      "Epoch 2/100\n",
      "12/12 [==============================] - 0s 721us/step - loss: nan - binary_accuracy: 0.6264\n",
      "Epoch 3/100\n",
      "12/12 [==============================] - 0s 803us/step - loss: nan - binary_accuracy: 0.6264\n",
      "Epoch 4/100\n",
      "12/12 [==============================] - 0s 698us/step - loss: nan - binary_accuracy: 0.6264\n",
      "Epoch 5/100\n",
      "12/12 [==============================] - 0s 624us/step - loss: nan - binary_accuracy: 0.6264\n",
      "Epoch 6/100\n",
      "12/12 [==============================] - 0s 709us/step - loss: nan - binary_accuracy: 0.6264\n",
      "Epoch 7/100\n",
      "12/12 [==============================] - 0s 692us/step - loss: nan - binary_accuracy: 0.6264\n",
      "Epoch 8/100\n",
      "12/12 [==============================] - 0s 642us/step - loss: nan - binary_accuracy: 0.6264\n",
      "Epoch 9/100\n",
      "12/12 [==============================] - 0s 671us/step - loss: nan - binary_accuracy: 0.6264\n",
      "Epoch 10/100\n",
      "12/12 [==============================] - 0s 591us/step - loss: nan - binary_accuracy: 0.6264\n",
      "Epoch 11/100\n",
      "12/12 [==============================] - 0s 676us/step - loss: nan - binary_accuracy: 0.6264\n",
      "Epoch 12/100\n",
      "12/12 [==============================] - 0s 598us/step - loss: nan - binary_accuracy: 0.6264\n",
      "Epoch 13/100\n",
      "12/12 [==============================] - 0s 673us/step - loss: nan - binary_accuracy: 0.6264\n",
      "Epoch 14/100\n",
      "12/12 [==============================] - 0s 690us/step - loss: nan - binary_accuracy: 0.6264\n",
      "Epoch 15/100\n",
      "12/12 [==============================] - 0s 684us/step - loss: nan - binary_accuracy: 0.6264\n",
      "Epoch 16/100\n",
      "12/12 [==============================] - 0s 726us/step - loss: nan - binary_accuracy: 0.6264\n",
      "Epoch 17/100\n",
      "12/12 [==============================] - 0s 599us/step - loss: nan - binary_accuracy: 0.6264\n",
      "Epoch 18/100\n",
      "12/12 [==============================] - 0s 696us/step - loss: nan - binary_accuracy: 0.6264\n",
      "Epoch 19/100\n",
      "12/12 [==============================] - 0s 590us/step - loss: nan - binary_accuracy: 0.6264\n",
      "Epoch 20/100\n",
      "12/12 [==============================] - 0s 675us/step - loss: nan - binary_accuracy: 0.6264\n",
      "Epoch 21/100\n",
      "12/12 [==============================] - 0s 669us/step - loss: nan - binary_accuracy: 0.6264\n",
      "Epoch 22/100\n",
      "12/12 [==============================] - 0s 673us/step - loss: nan - binary_accuracy: 0.6264\n",
      "Epoch 23/100\n",
      "12/12 [==============================] - 0s 696us/step - loss: nan - binary_accuracy: 0.6264\n",
      "Epoch 24/100\n",
      "12/12 [==============================] - 0s 642us/step - loss: nan - binary_accuracy: 0.6264\n",
      "Epoch 25/100\n",
      "12/12 [==============================] - 0s 713us/step - loss: nan - binary_accuracy: 0.6264\n",
      "Epoch 26/100\n",
      "12/12 [==============================] - 0s 716us/step - loss: nan - binary_accuracy: 0.6264\n",
      "Epoch 27/100\n",
      "12/12 [==============================] - 0s 707us/step - loss: nan - binary_accuracy: 0.6264\n",
      "Epoch 28/100\n",
      "12/12 [==============================] - 0s 732us/step - loss: nan - binary_accuracy: 0.6264\n",
      "Epoch 29/100\n",
      "12/12 [==============================] - 0s 744us/step - loss: nan - binary_accuracy: 0.6264\n",
      "Epoch 30/100\n",
      "12/12 [==============================] - 0s 694us/step - loss: nan - binary_accuracy: 0.6264\n",
      "Epoch 31/100\n",
      "12/12 [==============================] - 0s 745us/step - loss: nan - binary_accuracy: 0.6264\n",
      "Epoch 32/100\n",
      "12/12 [==============================] - 0s 643us/step - loss: nan - binary_accuracy: 0.6264\n",
      "Epoch 33/100\n",
      "12/12 [==============================] - 0s 720us/step - loss: nan - binary_accuracy: 0.6264\n",
      "Epoch 34/100\n",
      "12/12 [==============================] - 0s 722us/step - loss: nan - binary_accuracy: 0.6264\n",
      "Epoch 35/100\n",
      "12/12 [==============================] - 0s 713us/step - loss: nan - binary_accuracy: 0.6264\n",
      "Epoch 36/100\n",
      "12/12 [==============================] - 0s 647us/step - loss: nan - binary_accuracy: 0.6264\n",
      "Epoch 37/100\n",
      "12/12 [==============================] - 0s 639us/step - loss: nan - binary_accuracy: 0.6264\n",
      "Epoch 38/100\n",
      "12/12 [==============================] - 0s 700us/step - loss: nan - binary_accuracy: 0.6264\n",
      "Epoch 39/100\n",
      "12/12 [==============================] - 0s 705us/step - loss: nan - binary_accuracy: 0.6264\n",
      "Epoch 40/100\n",
      "12/12 [==============================] - 0s 705us/step - loss: nan - binary_accuracy: 0.6264\n",
      "Epoch 41/100\n",
      "12/12 [==============================] - 0s 731us/step - loss: nan - binary_accuracy: 0.6264\n",
      "Epoch 42/100\n",
      "12/12 [==============================] - 0s 736us/step - loss: nan - binary_accuracy: 0.6264\n",
      "Epoch 43/100\n",
      "12/12 [==============================] - 0s 656us/step - loss: nan - binary_accuracy: 0.6264\n",
      "Epoch 44/100\n",
      "12/12 [==============================] - 0s 724us/step - loss: nan - binary_accuracy: 0.6264\n",
      "Epoch 45/100\n",
      "12/12 [==============================] - 0s 654us/step - loss: nan - binary_accuracy: 0.6264\n",
      "Epoch 46/100\n",
      "12/12 [==============================] - 0s 666us/step - loss: nan - binary_accuracy: 0.6264\n",
      "Epoch 47/100\n",
      "12/12 [==============================] - 0s 692us/step - loss: nan - binary_accuracy: 0.6264\n",
      "Epoch 48/100\n",
      "12/12 [==============================] - 0s 734us/step - loss: nan - binary_accuracy: 0.6264\n",
      "Epoch 49/100\n",
      "12/12 [==============================] - 0s 706us/step - loss: nan - binary_accuracy: 0.6264\n",
      "Epoch 50/100\n",
      "12/12 [==============================] - 0s 674us/step - loss: nan - binary_accuracy: 0.6264\n",
      "Epoch 51/100\n",
      "12/12 [==============================] - 0s 654us/step - loss: nan - binary_accuracy: 0.6264\n",
      "Epoch 52/100\n",
      "12/12 [==============================] - 0s 661us/step - loss: nan - binary_accuracy: 0.6264\n",
      "Epoch 53/100\n",
      "12/12 [==============================] - 0s 700us/step - loss: nan - binary_accuracy: 0.6264\n",
      "Epoch 54/100\n",
      "12/12 [==============================] - 0s 688us/step - loss: nan - binary_accuracy: 0.6264\n",
      "Epoch 55/100\n",
      "12/12 [==============================] - 0s 659us/step - loss: nan - binary_accuracy: 0.6264\n",
      "Epoch 56/100\n",
      "12/12 [==============================] - 0s 694us/step - loss: nan - binary_accuracy: 0.6264\n",
      "Epoch 57/100\n",
      "12/12 [==============================] - 0s 654us/step - loss: nan - binary_accuracy: 0.6264\n",
      "Epoch 58/100\n",
      "12/12 [==============================] - 0s 706us/step - loss: nan - binary_accuracy: 0.6264\n",
      "Epoch 59/100\n",
      "12/12 [==============================] - 0s 681us/step - loss: nan - binary_accuracy: 0.6264\n",
      "Epoch 60/100\n",
      "12/12 [==============================] - 0s 648us/step - loss: nan - binary_accuracy: 0.6264\n",
      "Epoch 61/100\n",
      "12/12 [==============================] - 0s 761us/step - loss: nan - binary_accuracy: 0.6264\n",
      "Epoch 62/100\n",
      "12/12 [==============================] - 0s 666us/step - loss: nan - binary_accuracy: 0.6264\n",
      "Epoch 63/100\n",
      "12/12 [==============================] - 0s 675us/step - loss: nan - binary_accuracy: 0.6264\n",
      "Epoch 64/100\n",
      "12/12 [==============================] - 0s 672us/step - loss: nan - binary_accuracy: 0.6264\n",
      "Epoch 65/100\n",
      "12/12 [==============================] - 0s 681us/step - loss: nan - binary_accuracy: 0.6264\n",
      "Epoch 66/100\n",
      "12/12 [==============================] - 0s 671us/step - loss: nan - binary_accuracy: 0.6264\n",
      "Epoch 67/100\n",
      "12/12 [==============================] - 0s 677us/step - loss: nan - binary_accuracy: 0.6264\n",
      "Epoch 68/100\n",
      "12/12 [==============================] - 0s 679us/step - loss: nan - binary_accuracy: 0.6264\n",
      "Epoch 69/100\n",
      "12/12 [==============================] - 0s 665us/step - loss: nan - binary_accuracy: 0.6264\n",
      "Epoch 70/100\n",
      "12/12 [==============================] - 0s 684us/step - loss: nan - binary_accuracy: 0.6264\n",
      "Epoch 71/100\n",
      "12/12 [==============================] - 0s 672us/step - loss: nan - binary_accuracy: 0.6264\n",
      "Epoch 72/100\n",
      "12/12 [==============================] - 0s 669us/step - loss: nan - binary_accuracy: 0.6264\n",
      "Epoch 73/100\n",
      "12/12 [==============================] - 0s 659us/step - loss: nan - binary_accuracy: 0.6264\n",
      "Epoch 74/100\n",
      "12/12 [==============================] - 0s 694us/step - loss: nan - binary_accuracy: 0.6264\n",
      "Epoch 75/100\n",
      "12/12 [==============================] - 0s 677us/step - loss: nan - binary_accuracy: 0.6264\n",
      "Epoch 76/100\n",
      "12/12 [==============================] - 0s 675us/step - loss: nan - binary_accuracy: 0.6264\n",
      "Epoch 77/100\n",
      "12/12 [==============================] - 0s 699us/step - loss: nan - binary_accuracy: 0.6264\n",
      "Epoch 78/100\n",
      "12/12 [==============================] - 0s 672us/step - loss: nan - binary_accuracy: 0.6264\n",
      "Epoch 79/100\n",
      "12/12 [==============================] - 0s 662us/step - loss: nan - binary_accuracy: 0.6264\n",
      "Epoch 80/100\n",
      "12/12 [==============================] - 0s 678us/step - loss: nan - binary_accuracy: 0.6264\n",
      "Epoch 81/100\n",
      "12/12 [==============================] - 0s 717us/step - loss: nan - binary_accuracy: 0.6264\n",
      "Epoch 82/100\n",
      "12/12 [==============================] - 0s 708us/step - loss: nan - binary_accuracy: 0.6264\n",
      "Epoch 83/100\n",
      "12/12 [==============================] - 0s 695us/step - loss: nan - binary_accuracy: 0.6264\n",
      "Epoch 84/100\n",
      "12/12 [==============================] - 0s 692us/step - loss: nan - binary_accuracy: 0.6264\n",
      "Epoch 85/100\n",
      "12/12 [==============================] - 0s 723us/step - loss: nan - binary_accuracy: 0.6264\n",
      "Epoch 86/100\n",
      "12/12 [==============================] - 0s 696us/step - loss: nan - binary_accuracy: 0.6264\n",
      "Epoch 87/100\n",
      "12/12 [==============================] - 0s 709us/step - loss: nan - binary_accuracy: 0.6264\n",
      "Epoch 88/100\n",
      "12/12 [==============================] - 0s 705us/step - loss: nan - binary_accuracy: 0.6264\n",
      "Epoch 89/100\n",
      "12/12 [==============================] - 0s 663us/step - loss: nan - binary_accuracy: 0.6264\n",
      "Epoch 90/100\n",
      "12/12 [==============================] - 0s 649us/step - loss: nan - binary_accuracy: 0.6264\n",
      "Epoch 91/100\n",
      "12/12 [==============================] - 0s 631us/step - loss: nan - binary_accuracy: 0.6264\n",
      "Epoch 92/100\n",
      "12/12 [==============================] - 0s 665us/step - loss: nan - binary_accuracy: 0.6264\n",
      "Epoch 93/100\n",
      "12/12 [==============================] - 0s 627us/step - loss: nan - binary_accuracy: 0.6264\n",
      "Epoch 94/100\n",
      "12/12 [==============================] - 0s 683us/step - loss: nan - binary_accuracy: 0.6264\n",
      "Epoch 95/100\n",
      "12/12 [==============================] - 0s 607us/step - loss: nan - binary_accuracy: 0.6264\n",
      "Epoch 96/100\n",
      "12/12 [==============================] - 0s 675us/step - loss: nan - binary_accuracy: 0.6264\n",
      "Epoch 97/100\n",
      "12/12 [==============================] - 0s 613us/step - loss: nan - binary_accuracy: 0.6264\n",
      "Epoch 98/100\n",
      "12/12 [==============================] - 0s 651us/step - loss: nan - binary_accuracy: 0.6264\n",
      "Epoch 99/100\n",
      "12/12 [==============================] - 0s 657us/step - loss: nan - binary_accuracy: 0.6264\n",
      "Epoch 100/100\n",
      "12/12 [==============================] - 0s 613us/step - loss: nan - binary_accuracy: 0.6264\n"
     ]
    },
    {
     "data": {
      "text/plain": [
       "<keras.callbacks.History at 0x7f8550411430>"
      ]
     },
     "execution_count": 17,
     "metadata": {},
     "output_type": "execute_result"
    }
   ],
   "source": [
    "# Train your neural network using the training data\n",
    "model.fit(train_df.drop('Survived', axis=1), train_df['Survived'], epochs=100, batch_size=64)"
   ]
  },
  {
   "cell_type": "code",
   "execution_count": 18,
   "metadata": {},
   "outputs": [
    {
     "ename": "ValueError",
     "evalue": "in user code:\n\n    File \"/Users/espen/opt/anaconda3/envs/IBM/lib/python3.9/site-packages/keras/engine/training.py\", line 1727, in test_function  *\n        return step_function(self, iterator)\n    File \"/Users/espen/opt/anaconda3/envs/IBM/lib/python3.9/site-packages/keras/engine/training.py\", line 1713, in step_function  **\n        outputs = model.distribute_strategy.run(run_step, args=(data,))\n    File \"/Users/espen/opt/anaconda3/envs/IBM/lib/python3.9/site-packages/keras/engine/training.py\", line 1701, in run_step  **\n        outputs = model.test_step(data)\n    File \"/Users/espen/opt/anaconda3/envs/IBM/lib/python3.9/site-packages/keras/engine/training.py\", line 1665, in test_step\n        y_pred = self(x, training=False)\n    File \"/Users/espen/opt/anaconda3/envs/IBM/lib/python3.9/site-packages/keras/utils/traceback_utils.py\", line 70, in error_handler\n        raise e.with_traceback(filtered_tb) from None\n    File \"/Users/espen/opt/anaconda3/envs/IBM/lib/python3.9/site-packages/keras/engine/input_spec.py\", line 295, in assert_input_compatibility\n        raise ValueError(\n\n    ValueError: Input 0 of layer \"sequential_1\" is incompatible with the layer: expected shape=(None, 22), found shape=(None, 21)\n",
     "output_type": "error",
     "traceback": [
      "\u001b[0;31m---------------------------------------------------------------------------\u001b[0m",
      "\u001b[0;31mValueError\u001b[0m                                Traceback (most recent call last)",
      "Cell \u001b[0;32mIn[18], line 2\u001b[0m\n\u001b[1;32m      1\u001b[0m \u001b[38;5;66;03m# Evaluate your neural network using the testing data\u001b[39;00m\n\u001b[0;32m----> 2\u001b[0m loss, accuracy \u001b[38;5;241m=\u001b[39m \u001b[43mmodel\u001b[49m\u001b[38;5;241;43m.\u001b[39;49m\u001b[43mevaluate\u001b[49m\u001b[43m(\u001b[49m\u001b[43mtest_df\u001b[49m\u001b[38;5;241;43m.\u001b[39;49m\u001b[43mdrop\u001b[49m\u001b[43m(\u001b[49m\u001b[38;5;124;43m'\u001b[39;49m\u001b[38;5;124;43mSurvived\u001b[39;49m\u001b[38;5;124;43m'\u001b[39;49m\u001b[43m,\u001b[49m\u001b[43m \u001b[49m\u001b[43maxis\u001b[49m\u001b[38;5;241;43m=\u001b[39;49m\u001b[38;5;241;43m1\u001b[39;49m\u001b[43m)\u001b[49m\u001b[43m,\u001b[49m\u001b[43m \u001b[49m\u001b[43mtest_df\u001b[49m\u001b[43m[\u001b[49m\u001b[38;5;124;43m'\u001b[39;49m\u001b[38;5;124;43mSurvived\u001b[39;49m\u001b[38;5;124;43m'\u001b[39;49m\u001b[43m]\u001b[49m\u001b[43m)\u001b[49m\n\u001b[1;32m      4\u001b[0m \u001b[38;5;66;03m# Print the accuracy of your neural network on the testing data\u001b[39;00m\n\u001b[1;32m      5\u001b[0m \u001b[38;5;28mprint\u001b[39m(\u001b[38;5;124m'\u001b[39m\u001b[38;5;124mAccuracy:\u001b[39m\u001b[38;5;124m'\u001b[39m, accuracy)\n",
      "File \u001b[0;32m~/opt/anaconda3/envs/IBM/lib/python3.9/site-packages/keras/utils/traceback_utils.py:70\u001b[0m, in \u001b[0;36mfilter_traceback.<locals>.error_handler\u001b[0;34m(*args, **kwargs)\u001b[0m\n\u001b[1;32m     67\u001b[0m     filtered_tb \u001b[38;5;241m=\u001b[39m _process_traceback_frames(e\u001b[38;5;241m.\u001b[39m__traceback__)\n\u001b[1;32m     68\u001b[0m     \u001b[38;5;66;03m# To get the full stack trace, call:\u001b[39;00m\n\u001b[1;32m     69\u001b[0m     \u001b[38;5;66;03m# `tf.debugging.disable_traceback_filtering()`\u001b[39;00m\n\u001b[0;32m---> 70\u001b[0m     \u001b[38;5;28;01mraise\u001b[39;00m e\u001b[38;5;241m.\u001b[39mwith_traceback(filtered_tb) \u001b[38;5;28;01mfrom\u001b[39;00m \u001b[38;5;28mNone\u001b[39m\n\u001b[1;32m     71\u001b[0m \u001b[38;5;28;01mfinally\u001b[39;00m:\n\u001b[1;32m     72\u001b[0m     \u001b[38;5;28;01mdel\u001b[39;00m filtered_tb\n",
      "File \u001b[0;32m/var/folders/cb/p11211352wv37xf0h3t_mh9c0000gn/T/__autograph_generated_file185dkoan.py:15\u001b[0m, in \u001b[0;36mouter_factory.<locals>.inner_factory.<locals>.tf__test_function\u001b[0;34m(iterator)\u001b[0m\n\u001b[1;32m     13\u001b[0m \u001b[38;5;28;01mtry\u001b[39;00m:\n\u001b[1;32m     14\u001b[0m     do_return \u001b[38;5;241m=\u001b[39m \u001b[38;5;28;01mTrue\u001b[39;00m\n\u001b[0;32m---> 15\u001b[0m     retval_ \u001b[38;5;241m=\u001b[39m ag__\u001b[38;5;241m.\u001b[39mconverted_call(ag__\u001b[38;5;241m.\u001b[39mld(step_function), (ag__\u001b[38;5;241m.\u001b[39mld(\u001b[38;5;28mself\u001b[39m), ag__\u001b[38;5;241m.\u001b[39mld(iterator)), \u001b[38;5;28;01mNone\u001b[39;00m, fscope)\n\u001b[1;32m     16\u001b[0m \u001b[38;5;28;01mexcept\u001b[39;00m:\n\u001b[1;32m     17\u001b[0m     do_return \u001b[38;5;241m=\u001b[39m \u001b[38;5;28;01mFalse\u001b[39;00m\n",
      "\u001b[0;31mValueError\u001b[0m: in user code:\n\n    File \"/Users/espen/opt/anaconda3/envs/IBM/lib/python3.9/site-packages/keras/engine/training.py\", line 1727, in test_function  *\n        return step_function(self, iterator)\n    File \"/Users/espen/opt/anaconda3/envs/IBM/lib/python3.9/site-packages/keras/engine/training.py\", line 1713, in step_function  **\n        outputs = model.distribute_strategy.run(run_step, args=(data,))\n    File \"/Users/espen/opt/anaconda3/envs/IBM/lib/python3.9/site-packages/keras/engine/training.py\", line 1701, in run_step  **\n        outputs = model.test_step(data)\n    File \"/Users/espen/opt/anaconda3/envs/IBM/lib/python3.9/site-packages/keras/engine/training.py\", line 1665, in test_step\n        y_pred = self(x, training=False)\n    File \"/Users/espen/opt/anaconda3/envs/IBM/lib/python3.9/site-packages/keras/utils/traceback_utils.py\", line 70, in error_handler\n        raise e.with_traceback(filtered_tb) from None\n    File \"/Users/espen/opt/anaconda3/envs/IBM/lib/python3.9/site-packages/keras/engine/input_spec.py\", line 295, in assert_input_compatibility\n        raise ValueError(\n\n    ValueError: Input 0 of layer \"sequential_1\" is incompatible with the layer: expected shape=(None, 22), found shape=(None, 21)\n"
     ]
    }
   ],
   "source": [
    "# Evaluate your neural network using the testing data\n",
    "loss, accuracy = model.evaluate(test_df.drop('Survived', axis=1), test_df['Survived'])\n",
    "\n",
    "# Print the accuracy of your neural network on the testing data\n",
    "print('Accuracy:', accuracy)"
   ]
  },
  {
   "cell_type": "code",
   "execution_count": 126,
   "metadata": {},
   "outputs": [
    {
     "name": "stdout",
     "output_type": "stream",
     "text": [
      "6/6 [==============================] - 0s 574us/step\n"
     ]
    }
   ],
   "source": [
    "predictions_test = model.predict(test_df.drop('Survived', axis=1))"
   ]
  },
  {
   "cell_type": "code",
   "execution_count": 1,
   "metadata": {},
   "outputs": [
    {
     "ename": "NameError",
     "evalue": "name 'np' is not defined",
     "output_type": "error",
     "traceback": [
      "\u001b[0;31m---------------------------------------------------------------------------\u001b[0m",
      "\u001b[0;31mNameError\u001b[0m                                 Traceback (most recent call last)",
      "Cell \u001b[0;32mIn[1], line 1\u001b[0m\n\u001b[0;32m----> 1\u001b[0m predictions_test \u001b[38;5;241m=\u001b[39m \u001b[43mnp\u001b[49m\u001b[38;5;241m.\u001b[39mwhere(predictions_test \u001b[38;5;241m<\u001b[39m \u001b[38;5;241m0.5\u001b[39m, \u001b[38;5;241m0\u001b[39m, \u001b[38;5;241m1\u001b[39m)\n\u001b[1;32m      3\u001b[0m tn, fp, fn, tp \u001b[38;5;241m=\u001b[39m confusion_matrix(test_df[\u001b[38;5;124m'\u001b[39m\u001b[38;5;124mSurvived\u001b[39m\u001b[38;5;124m'\u001b[39m], predictions_test)\u001b[38;5;241m.\u001b[39mravel()\n\u001b[1;32m      5\u001b[0m \u001b[38;5;28mprint\u001b[39m(\u001b[38;5;124m\"\u001b[39m\u001b[38;5;130;01m\\n\u001b[39;00m\u001b[38;5;124mTest Set Confusion Matrix:\u001b[39m\u001b[38;5;124m\"\u001b[39m)\n",
      "\u001b[0;31mNameError\u001b[0m: name 'np' is not defined"
     ]
    }
   ],
   "source": [
    "predictions_test = np.where(predictions_test < 0.5, 0, 1)\n",
    "\n",
    "tn, fp, fn, tp = confusion_matrix(test_df['Survived'], predictions_test).ravel()\n",
    "\n",
    "print(\"\\nTest Set Confusion Matrix:\")\n",
    "print(\"True Negative:\", tn)\n",
    "print(\"False Positive:\", fp)\n",
    "print(\"False Negative:\", fn)\n",
    "print(\"True Positive:\", tp)\n",
    "\n",
    "precision = tp / (tp + fp)\n",
    "recall = tp / (tp + fn)\n",
    "\n",
    "conf_acc = (tn + tp) / (tn + fp + fn + tp)\n",
    "\n",
    "print(\"Accuracy:\", conf_acc)\n",
    "print(\"Precision:\", precision)\n",
    "print(\"Recall (specifisity):\", recall)\n",
    "\n"
   ]
  },
  {
   "cell_type": "code",
   "execution_count": 40,
   "metadata": {},
   "outputs": [],
   "source": [
    "# Merge and train on the entire dataset\n",
    "\n",
    "entire_df = pd.concat([train_df, test_df], ignore_index=True)\n"
   ]
  },
  {
   "cell_type": "code",
   "execution_count": null,
   "metadata": {},
   "outputs": [
    {
     "name": "stdout",
     "output_type": "stream",
     "text": [
      "Epoch 1/100\n",
      "14/14 [==============================] - 0s 747us/step - loss: nan - binary_accuracy: 0.6162\n",
      "Epoch 2/100\n",
      "14/14 [==============================] - 0s 711us/step - loss: nan - binary_accuracy: 0.6162\n",
      "Epoch 3/100\n",
      "14/14 [==============================] - 0s 671us/step - loss: nan - binary_accuracy: 0.6162\n",
      "Epoch 4/100\n",
      "14/14 [==============================] - 0s 644us/step - loss: nan - binary_accuracy: 0.6162\n",
      "Epoch 5/100\n",
      "14/14 [==============================] - 0s 671us/step - loss: nan - binary_accuracy: 0.6162\n",
      "Epoch 6/100\n",
      "14/14 [==============================] - 0s 596us/step - loss: nan - binary_accuracy: 0.6162\n",
      "Epoch 7/100\n",
      "14/14 [==============================] - 0s 615us/step - loss: nan - binary_accuracy: 0.6162\n",
      "Epoch 8/100\n",
      "14/14 [==============================] - 0s 584us/step - loss: nan - binary_accuracy: 0.6162\n",
      "Epoch 9/100\n",
      "14/14 [==============================] - 0s 628us/step - loss: nan - binary_accuracy: 0.6162\n",
      "Epoch 10/100\n",
      "14/14 [==============================] - 0s 606us/step - loss: nan - binary_accuracy: 0.6162\n",
      "Epoch 11/100\n",
      "14/14 [==============================] - 0s 569us/step - loss: nan - binary_accuracy: 0.6162\n",
      "Epoch 12/100\n",
      "14/14 [==============================] - 0s 613us/step - loss: nan - binary_accuracy: 0.6162\n",
      "Epoch 13/100\n",
      "14/14 [==============================] - 0s 574us/step - loss: nan - binary_accuracy: 0.6162\n",
      "Epoch 14/100\n",
      "14/14 [==============================] - 0s 628us/step - loss: nan - binary_accuracy: 0.6162\n",
      "Epoch 15/100\n",
      "14/14 [==============================] - 0s 630us/step - loss: nan - binary_accuracy: 0.6162\n",
      "Epoch 16/100\n",
      "14/14 [==============================] - 0s 567us/step - loss: nan - binary_accuracy: 0.6162\n",
      "Epoch 17/100\n",
      "14/14 [==============================] - 0s 637us/step - loss: nan - binary_accuracy: 0.6162\n",
      "Epoch 18/100\n",
      "14/14 [==============================] - 0s 579us/step - loss: nan - binary_accuracy: 0.6162\n",
      "Epoch 19/100\n",
      "14/14 [==============================] - 0s 621us/step - loss: nan - binary_accuracy: 0.6162\n",
      "Epoch 20/100\n",
      "14/14 [==============================] - 0s 596us/step - loss: nan - binary_accuracy: 0.6162\n",
      "Epoch 21/100\n",
      "14/14 [==============================] - 0s 589us/step - loss: nan - binary_accuracy: 0.6162\n",
      "Epoch 22/100\n",
      "14/14 [==============================] - 0s 659us/step - loss: nan - binary_accuracy: 0.6162\n",
      "Epoch 23/100\n",
      "14/14 [==============================] - 0s 642us/step - loss: nan - binary_accuracy: 0.6162\n",
      "Epoch 24/100\n",
      "14/14 [==============================] - 0s 650us/step - loss: nan - binary_accuracy: 0.6162\n",
      "Epoch 25/100\n",
      "14/14 [==============================] - 0s 656us/step - loss: nan - binary_accuracy: 0.6162\n",
      "Epoch 26/100\n",
      "14/14 [==============================] - 0s 614us/step - loss: nan - binary_accuracy: 0.6162\n",
      "Epoch 27/100\n",
      "14/14 [==============================] - 0s 656us/step - loss: nan - binary_accuracy: 0.6162\n",
      "Epoch 28/100\n",
      "14/14 [==============================] - 0s 677us/step - loss: nan - binary_accuracy: 0.6162\n",
      "Epoch 29/100\n",
      "14/14 [==============================] - 0s 633us/step - loss: nan - binary_accuracy: 0.6162\n",
      "Epoch 30/100\n",
      "14/14 [==============================] - 0s 664us/step - loss: nan - binary_accuracy: 0.6162\n",
      "Epoch 31/100\n",
      "14/14 [==============================] - 0s 628us/step - loss: nan - binary_accuracy: 0.6162\n",
      "Epoch 32/100\n",
      "14/14 [==============================] - 0s 612us/step - loss: nan - binary_accuracy: 0.6162\n",
      "Epoch 33/100\n",
      "14/14 [==============================] - 0s 650us/step - loss: nan - binary_accuracy: 0.6162\n",
      "Epoch 34/100\n",
      "14/14 [==============================] - 0s 599us/step - loss: nan - binary_accuracy: 0.6162\n",
      "Epoch 35/100\n",
      "14/14 [==============================] - 0s 632us/step - loss: nan - binary_accuracy: 0.6162\n",
      "Epoch 36/100\n",
      "14/14 [==============================] - 0s 629us/step - loss: nan - binary_accuracy: 0.6162\n",
      "Epoch 37/100\n",
      "14/14 [==============================] - 0s 590us/step - loss: nan - binary_accuracy: 0.6162\n",
      "Epoch 38/100\n",
      "14/14 [==============================] - 0s 611us/step - loss: nan - binary_accuracy: 0.6162\n",
      "Epoch 39/100\n",
      "14/14 [==============================] - 0s 585us/step - loss: nan - binary_accuracy: 0.6162\n",
      "Epoch 40/100\n",
      "14/14 [==============================] - 0s 609us/step - loss: nan - binary_accuracy: 0.6162\n",
      "Epoch 41/100\n",
      "14/14 [==============================] - 0s 662us/step - loss: nan - binary_accuracy: 0.6162\n",
      "Epoch 42/100\n",
      "14/14 [==============================] - 0s 612us/step - loss: nan - binary_accuracy: 0.6162\n",
      "Epoch 43/100\n",
      "14/14 [==============================] - 0s 649us/step - loss: nan - binary_accuracy: 0.6162\n",
      "Epoch 44/100\n",
      "14/14 [==============================] - 0s 590us/step - loss: nan - binary_accuracy: 0.6162\n",
      "Epoch 45/100\n",
      "14/14 [==============================] - 0s 632us/step - loss: nan - binary_accuracy: 0.6162\n",
      "Epoch 46/100\n",
      "14/14 [==============================] - 0s 614us/step - loss: nan - binary_accuracy: 0.6162\n",
      "Epoch 47/100\n",
      "14/14 [==============================] - 0s 655us/step - loss: nan - binary_accuracy: 0.6162\n",
      "Epoch 48/100\n",
      "14/14 [==============================] - 0s 658us/step - loss: nan - binary_accuracy: 0.6162\n",
      "Epoch 49/100\n",
      " 1/14 [=>............................] - ETA: 0s - loss: nan - binary_accuracy: 0.5469"
     ]
    }
   ],
   "source": [
    "model.fit(entire_df.drop('Survived', axis=1), entire_df['Survived'], epochs=100, batch_size=64)"
   ]
  },
  {
   "cell_type": "code",
   "execution_count": 19,
   "metadata": {},
   "outputs": [
    {
     "data": {
      "text/plain": [
       "Index(['PassengerId', 'Pclass', 'SibSp', 'Parch', 'Cabin', 'Sex_female',\n",
       "       'Sex_male', 'Embarked_C', 'Embarked_Q', 'Embarked_S',\n",
       "       'Age_Category_age_label_0', 'Age_Category_age_label_1',\n",
       "       'Age_Category_age_label_2', 'Age_Category_age_label_3',\n",
       "       'Age_Category_age_label_4', 'Age_Category_age_label_5',\n",
       "       'Age_Category_age_label_6', 'Fare_Category_fare_label_0',\n",
       "       'Fare_Category_fare_label_1', 'Fare_Category_fare_label_2',\n",
       "       'Fare_Category_fare_label_3', 'Fare_Category_fare_label_4'],\n",
       "      dtype='object')"
      ]
     },
     "execution_count": 19,
     "metadata": {},
     "output_type": "execute_result"
    }
   ],
   "source": [
    "pred_df.columns"
   ]
  },
  {
   "cell_type": "code",
   "execution_count": 24,
   "metadata": {},
   "outputs": [
    {
     "data": {
      "text/plain": [
       "Index(['Survived', 'Pclass', 'SibSp', 'Parch', 'Cabin', 'Fares_squared',\n",
       "       'Sex_female', 'Sex_male', 'Embarked_C', 'Embarked_Q', 'Embarked_S',\n",
       "       'Age_Category_age_label_0', 'Age_Category_age_label_1',\n",
       "       'Age_Category_age_label_2', 'Age_Category_age_label_3',\n",
       "       'Age_Category_age_label_4', 'Age_Category_age_label_5',\n",
       "       'Age_Category_age_label_6', 'Fare_Category_fare_label_0',\n",
       "       'Fare_Category_fare_label_1', 'Fare_Category_fare_label_2',\n",
       "       'Fare_Category_fare_label_3', 'Fare_Category_fare_label_4'],\n",
       "      dtype='object')"
      ]
     },
     "execution_count": 24,
     "metadata": {},
     "output_type": "execute_result"
    }
   ],
   "source": [
    "entire_df.columns\n"
   ]
  },
  {
   "cell_type": "code",
   "execution_count": 21,
   "metadata": {},
   "outputs": [
    {
     "ename": "ValueError",
     "evalue": "in user code:\n\n    File \"/Users/espen/opt/anaconda3/envs/IBM/lib/python3.9/site-packages/keras/engine/training.py\", line 2041, in predict_function  *\n        return step_function(self, iterator)\n    File \"/Users/espen/opt/anaconda3/envs/IBM/lib/python3.9/site-packages/keras/engine/training.py\", line 2027, in step_function  **\n        outputs = model.distribute_strategy.run(run_step, args=(data,))\n    File \"/Users/espen/opt/anaconda3/envs/IBM/lib/python3.9/site-packages/keras/engine/training.py\", line 2015, in run_step  **\n        outputs = model.predict_step(data)\n    File \"/Users/espen/opt/anaconda3/envs/IBM/lib/python3.9/site-packages/keras/engine/training.py\", line 1983, in predict_step\n        return self(x, training=False)\n    File \"/Users/espen/opt/anaconda3/envs/IBM/lib/python3.9/site-packages/keras/utils/traceback_utils.py\", line 70, in error_handler\n        raise e.with_traceback(filtered_tb) from None\n    File \"/Users/espen/opt/anaconda3/envs/IBM/lib/python3.9/site-packages/keras/engine/input_spec.py\", line 295, in assert_input_compatibility\n        raise ValueError(\n\n    ValueError: Input 0 of layer \"sequential_1\" is incompatible with the layer: expected shape=(None, 22), found shape=(None, 21)\n",
     "output_type": "error",
     "traceback": [
      "\u001b[0;31m---------------------------------------------------------------------------\u001b[0m",
      "\u001b[0;31mValueError\u001b[0m                                Traceback (most recent call last)",
      "Cell \u001b[0;32mIn[21], line 1\u001b[0m\n\u001b[0;32m----> 1\u001b[0m predictions \u001b[38;5;241m=\u001b[39m \u001b[43mmodel\u001b[49m\u001b[38;5;241;43m.\u001b[39;49m\u001b[43mpredict\u001b[49m\u001b[43m(\u001b[49m\u001b[43mpred_df\u001b[49m\u001b[38;5;241;43m.\u001b[39;49m\u001b[43mdrop\u001b[49m\u001b[43m(\u001b[49m\u001b[38;5;124;43m'\u001b[39;49m\u001b[38;5;124;43mPassengerId\u001b[39;49m\u001b[38;5;124;43m'\u001b[39;49m\u001b[43m,\u001b[49m\u001b[43m \u001b[49m\u001b[43maxis\u001b[49m\u001b[38;5;241;43m=\u001b[39;49m\u001b[38;5;241;43m1\u001b[39;49m\u001b[43m)\u001b[49m\u001b[43m)\u001b[49m\n",
      "File \u001b[0;32m~/opt/anaconda3/envs/IBM/lib/python3.9/site-packages/keras/utils/traceback_utils.py:70\u001b[0m, in \u001b[0;36mfilter_traceback.<locals>.error_handler\u001b[0;34m(*args, **kwargs)\u001b[0m\n\u001b[1;32m     67\u001b[0m     filtered_tb \u001b[38;5;241m=\u001b[39m _process_traceback_frames(e\u001b[38;5;241m.\u001b[39m__traceback__)\n\u001b[1;32m     68\u001b[0m     \u001b[38;5;66;03m# To get the full stack trace, call:\u001b[39;00m\n\u001b[1;32m     69\u001b[0m     \u001b[38;5;66;03m# `tf.debugging.disable_traceback_filtering()`\u001b[39;00m\n\u001b[0;32m---> 70\u001b[0m     \u001b[38;5;28;01mraise\u001b[39;00m e\u001b[38;5;241m.\u001b[39mwith_traceback(filtered_tb) \u001b[38;5;28;01mfrom\u001b[39;00m \u001b[38;5;28mNone\u001b[39m\n\u001b[1;32m     71\u001b[0m \u001b[38;5;28;01mfinally\u001b[39;00m:\n\u001b[1;32m     72\u001b[0m     \u001b[38;5;28;01mdel\u001b[39;00m filtered_tb\n",
      "File \u001b[0;32m/var/folders/cb/p11211352wv37xf0h3t_mh9c0000gn/T/__autograph_generated_filetvu_vq0g.py:15\u001b[0m, in \u001b[0;36mouter_factory.<locals>.inner_factory.<locals>.tf__predict_function\u001b[0;34m(iterator)\u001b[0m\n\u001b[1;32m     13\u001b[0m \u001b[38;5;28;01mtry\u001b[39;00m:\n\u001b[1;32m     14\u001b[0m     do_return \u001b[38;5;241m=\u001b[39m \u001b[38;5;28;01mTrue\u001b[39;00m\n\u001b[0;32m---> 15\u001b[0m     retval_ \u001b[38;5;241m=\u001b[39m ag__\u001b[38;5;241m.\u001b[39mconverted_call(ag__\u001b[38;5;241m.\u001b[39mld(step_function), (ag__\u001b[38;5;241m.\u001b[39mld(\u001b[38;5;28mself\u001b[39m), ag__\u001b[38;5;241m.\u001b[39mld(iterator)), \u001b[38;5;28;01mNone\u001b[39;00m, fscope)\n\u001b[1;32m     16\u001b[0m \u001b[38;5;28;01mexcept\u001b[39;00m:\n\u001b[1;32m     17\u001b[0m     do_return \u001b[38;5;241m=\u001b[39m \u001b[38;5;28;01mFalse\u001b[39;00m\n",
      "\u001b[0;31mValueError\u001b[0m: in user code:\n\n    File \"/Users/espen/opt/anaconda3/envs/IBM/lib/python3.9/site-packages/keras/engine/training.py\", line 2041, in predict_function  *\n        return step_function(self, iterator)\n    File \"/Users/espen/opt/anaconda3/envs/IBM/lib/python3.9/site-packages/keras/engine/training.py\", line 2027, in step_function  **\n        outputs = model.distribute_strategy.run(run_step, args=(data,))\n    File \"/Users/espen/opt/anaconda3/envs/IBM/lib/python3.9/site-packages/keras/engine/training.py\", line 2015, in run_step  **\n        outputs = model.predict_step(data)\n    File \"/Users/espen/opt/anaconda3/envs/IBM/lib/python3.9/site-packages/keras/engine/training.py\", line 1983, in predict_step\n        return self(x, training=False)\n    File \"/Users/espen/opt/anaconda3/envs/IBM/lib/python3.9/site-packages/keras/utils/traceback_utils.py\", line 70, in error_handler\n        raise e.with_traceback(filtered_tb) from None\n    File \"/Users/espen/opt/anaconda3/envs/IBM/lib/python3.9/site-packages/keras/engine/input_spec.py\", line 295, in assert_input_compatibility\n        raise ValueError(\n\n    ValueError: Input 0 of layer \"sequential_1\" is incompatible with the layer: expected shape=(None, 22), found shape=(None, 21)\n"
     ]
    }
   ],
   "source": [
    "predictions = model.predict(pred_df.drop('PassengerId', axis=1))"
   ]
  },
  {
   "cell_type": "code",
   "execution_count": 27,
   "metadata": {},
   "outputs": [],
   "source": [
    "predictions = np.where(predictions < 0.5, 0, 1)\n"
   ]
  },
  {
   "cell_type": "code",
   "execution_count": 28,
   "metadata": {},
   "outputs": [],
   "source": [
    "predictions_n = predictions.reshape(418,)\n",
    "predictions_n.shape\n",
    "predictions_n = predictions_n.astype(int)"
   ]
  },
  {
   "cell_type": "code",
   "execution_count": 25,
   "metadata": {},
   "outputs": [
    {
     "data": {
      "text/plain": [
       "(418,)"
      ]
     },
     "execution_count": 25,
     "metadata": {},
     "output_type": "execute_result"
    }
   ],
   "source": [
    "pred_df['PassengerId'].shape"
   ]
  },
  {
   "cell_type": "code",
   "execution_count": 30,
   "metadata": {},
   "outputs": [],
   "source": [
    "pred_df['PassengerId'] = pred_df['PassengerId'].astype(int)\n"
   ]
  },
  {
   "cell_type": "code",
   "execution_count": 31,
   "metadata": {},
   "outputs": [],
   "source": [
    "output_df = pd.DataFrame({'PassengerId': pred_df['PassengerId'], 'Survived': predictions_n})"
   ]
  },
  {
   "cell_type": "code",
   "execution_count": 32,
   "metadata": {},
   "outputs": [
    {
     "name": "stdout",
     "output_type": "stream",
     "text": [
      "Your submission was successfully saved!\n"
     ]
    }
   ],
   "source": [
    "output_df.to_csv('submission.csv', index=False)\n",
    "print(\"Your submission was successfully saved!\")"
   ]
  },
  {
   "cell_type": "code",
   "execution_count": null,
   "metadata": {},
   "outputs": [],
   "source": []
  }
 ],
 "metadata": {
  "kernelspec": {
   "display_name": "Python 3 (ipykernel)",
   "language": "python",
   "name": "python3"
  },
  "language_info": {
   "codemirror_mode": {
    "name": "ipython",
    "version": 3
   },
   "file_extension": ".py",
   "mimetype": "text/x-python",
   "name": "python",
   "nbconvert_exporter": "python",
   "pygments_lexer": "ipython3",
   "version": "3.9.16"
  }
 },
 "nbformat": 4,
 "nbformat_minor": 4
}
